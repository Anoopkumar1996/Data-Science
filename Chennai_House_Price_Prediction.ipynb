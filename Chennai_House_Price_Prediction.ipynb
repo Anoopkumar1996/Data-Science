{
  "cells": [
    {
      "cell_type": "markdown",
      "metadata": {
        "id": "view-in-github",
        "colab_type": "text"
      },
      "source": [
        "<a href=\"https://colab.research.google.com/github/Anoopkumar1996/Data-Science-Projects/blob/main/Chennai_House_Price_Prediction.ipynb\" target=\"_parent\"><img src=\"https://colab.research.google.com/assets/colab-badge.svg\" alt=\"Open In Colab\"/></a>"
      ]
    },
    {
      "cell_type": "markdown",
      "id": "361f1dd0",
      "metadata": {
        "id": "361f1dd0"
      },
      "source": [
        "# Importing Necessary Libraries"
      ]
    },
    {
      "cell_type": "code",
      "execution_count": 1,
      "id": "dc29e99a",
      "metadata": {
        "id": "dc29e99a"
      },
      "outputs": [],
      "source": [
        "import pandas as pd\n",
        "import numpy as np\n",
        "import matplotlib.pyplot as plt\n",
        "%matplotlib inline\n",
        "import seaborn as sns\n",
        "import warnings\n",
        "warnings.filterwarnings(\"ignore\")"
      ]
    },
    {
      "cell_type": "markdown",
      "id": "fc6b2cdb",
      "metadata": {
        "id": "fc6b2cdb"
      },
      "source": [
        "# Loading the Dataset"
      ]
    },
    {
      "cell_type": "code",
      "execution_count": 2,
      "id": "4369ac51",
      "metadata": {
        "colab": {
          "resources": {
            "http://localhost:8080/nbextensions/google.colab/files.js": {
              "data": "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",
              "ok": true,
              "headers": [
                [
                  "content-type",
                  "application/javascript"
                ]
              ],
              "status": 200,
              "status_text": ""
            }
          },
          "base_uri": "https://localhost:8080/",
          "height": 73
        },
        "id": "4369ac51",
        "outputId": "e8e888d4-837d-4f5c-9a3c-daaef3d82c2d"
      },
      "outputs": [
        {
          "output_type": "display_data",
          "data": {
            "text/plain": [
              "<IPython.core.display.HTML object>"
            ],
            "text/html": [
              "\n",
              "     <input type=\"file\" id=\"files-bf29aeb9-584b-47e2-b4d5-8ac11947265e\" name=\"files[]\" multiple disabled\n",
              "        style=\"border:none\" />\n",
              "     <output id=\"result-bf29aeb9-584b-47e2-b4d5-8ac11947265e\">\n",
              "      Upload widget is only available when the cell has been executed in the\n",
              "      current browser session. Please rerun this cell to enable.\n",
              "      </output>\n",
              "      <script src=\"/nbextensions/google.colab/files.js\"></script> "
            ]
          },
          "metadata": {}
        },
        {
          "output_type": "stream",
          "name": "stdout",
          "text": [
            "Saving train-chennai-sale.csv to train-chennai-sale.csv\n"
          ]
        }
      ],
      "source": [
        "from google.colab import files\n",
        "uploaded = files.upload()"
      ]
    },
    {
      "cell_type": "code",
      "execution_count": 3,
      "id": "ec06c794",
      "metadata": {
        "id": "ec06c794"
      },
      "outputs": [],
      "source": [
        "df = pd.read_csv('train-chennai-sale.csv')"
      ]
    },
    {
      "cell_type": "markdown",
      "source": [
        "#Checking for Missing Values"
      ],
      "metadata": {
        "id": "8yx1i1LmTyl3"
      },
      "id": "8yx1i1LmTyl3"
    },
    {
      "cell_type": "code",
      "execution_count": 4,
      "id": "8885edbf",
      "metadata": {
        "colab": {
          "base_uri": "https://localhost:8080/"
        },
        "id": "8885edbf",
        "outputId": "e02b3ed6-e9af-443a-dd53-9d7d77cdc4f2"
      },
      "outputs": [
        {
          "output_type": "execute_result",
          "data": {
            "text/plain": [
              "PRT_ID            0\n",
              "AREA              0\n",
              "INT_SQFT          0\n",
              "DATE_SALE         0\n",
              "DIST_MAINROAD     0\n",
              "N_BEDROOM         1\n",
              "N_BATHROOM        5\n",
              "N_ROOM            0\n",
              "SALE_COND         0\n",
              "PARK_FACIL        0\n",
              "DATE_BUILD        0\n",
              "BUILDTYPE         0\n",
              "UTILITY_AVAIL     0\n",
              "STREET            0\n",
              "MZZONE            0\n",
              "QS_ROOMS          0\n",
              "QS_BATHROOM       0\n",
              "QS_BEDROOM        0\n",
              "QS_OVERALL       48\n",
              "REG_FEE           0\n",
              "COMMIS            0\n",
              "SALES_PRICE       0\n",
              "dtype: int64"
            ]
          },
          "metadata": {},
          "execution_count": 4
        }
      ],
      "source": [
        "df.isnull().sum()"
      ]
    },
    {
      "cell_type": "markdown",
      "source": [
        "Missing Values are present in *N_BEDROOM*, *N_BATHROOM*, *QS_OVERALL* Coloumns"
      ],
      "metadata": {
        "id": "kch4PWxhUbPf"
      },
      "id": "kch4PWxhUbPf"
    },
    {
      "cell_type": "markdown",
      "source": [
        "#Checking the Datatypes of Coloumns"
      ],
      "metadata": {
        "id": "pZv8qxn0Vr_c"
      },
      "id": "pZv8qxn0Vr_c"
    },
    {
      "cell_type": "code",
      "execution_count": 5,
      "id": "09fcac4f",
      "metadata": {
        "colab": {
          "base_uri": "https://localhost:8080/"
        },
        "id": "09fcac4f",
        "outputId": "5034dac3-29cb-4759-d2bb-865b873844e0"
      },
      "outputs": [
        {
          "output_type": "execute_result",
          "data": {
            "text/plain": [
              "PRT_ID            object\n",
              "AREA              object\n",
              "INT_SQFT           int64\n",
              "DATE_SALE         object\n",
              "DIST_MAINROAD      int64\n",
              "N_BEDROOM        float64\n",
              "N_BATHROOM       float64\n",
              "N_ROOM             int64\n",
              "SALE_COND         object\n",
              "PARK_FACIL        object\n",
              "DATE_BUILD        object\n",
              "BUILDTYPE         object\n",
              "UTILITY_AVAIL     object\n",
              "STREET            object\n",
              "MZZONE            object\n",
              "QS_ROOMS         float64\n",
              "QS_BATHROOM      float64\n",
              "QS_BEDROOM       float64\n",
              "QS_OVERALL       float64\n",
              "REG_FEE            int64\n",
              "COMMIS             int64\n",
              "SALES_PRICE        int64\n",
              "dtype: object"
            ]
          },
          "metadata": {},
          "execution_count": 5
        }
      ],
      "source": [
        "df.dtypes"
      ]
    },
    {
      "cell_type": "markdown",
      "source": [
        "#Filling in the missing values and converting N_BEDROOM AND N_BATHROOM to int datatype"
      ],
      "metadata": {
        "id": "XSuZQD5wWZ-4"
      },
      "id": "XSuZQD5wWZ-4"
    },
    {
      "cell_type": "code",
      "source": [
        "df = df.fillna({\"N_BEDROOM\": df[\"N_BEDROOM\"].mode()[0],\n",
        "           \"N_BATHROOM\": df[\"N_BATHROOM\"].mode()[0], \n",
        "           \"QS_OVERALL\": df[\"QS_OVERALL\"].mean()})"
      ],
      "metadata": {
        "id": "g6kF68n1V4eg"
      },
      "id": "g6kF68n1V4eg",
      "execution_count": 6,
      "outputs": []
    },
    {
      "cell_type": "code",
      "source": [
        "df['N_BEDROOM']= df['N_BEDROOM'].astype(int)\n",
        "df['N_BATHROOM']= df['N_BATHROOM'].astype(int)"
      ],
      "metadata": {
        "id": "5v4yyqiGcwfn"
      },
      "id": "5v4yyqiGcwfn",
      "execution_count": 7,
      "outputs": []
    },
    {
      "cell_type": "code",
      "source": [
        "df.info()"
      ],
      "metadata": {
        "colab": {
          "base_uri": "https://localhost:8080/"
        },
        "id": "owAcAeP4aC-V",
        "outputId": "6b2d3524-c178-462a-d31a-a080bfd973c1"
      },
      "id": "owAcAeP4aC-V",
      "execution_count": 8,
      "outputs": [
        {
          "output_type": "stream",
          "name": "stdout",
          "text": [
            "<class 'pandas.core.frame.DataFrame'>\n",
            "RangeIndex: 7109 entries, 0 to 7108\n",
            "Data columns (total 22 columns):\n",
            " #   Column         Non-Null Count  Dtype  \n",
            "---  ------         --------------  -----  \n",
            " 0   PRT_ID         7109 non-null   object \n",
            " 1   AREA           7109 non-null   object \n",
            " 2   INT_SQFT       7109 non-null   int64  \n",
            " 3   DATE_SALE      7109 non-null   object \n",
            " 4   DIST_MAINROAD  7109 non-null   int64  \n",
            " 5   N_BEDROOM      7109 non-null   int64  \n",
            " 6   N_BATHROOM     7109 non-null   int64  \n",
            " 7   N_ROOM         7109 non-null   int64  \n",
            " 8   SALE_COND      7109 non-null   object \n",
            " 9   PARK_FACIL     7109 non-null   object \n",
            " 10  DATE_BUILD     7109 non-null   object \n",
            " 11  BUILDTYPE      7109 non-null   object \n",
            " 12  UTILITY_AVAIL  7109 non-null   object \n",
            " 13  STREET         7109 non-null   object \n",
            " 14  MZZONE         7109 non-null   object \n",
            " 15  QS_ROOMS       7109 non-null   float64\n",
            " 16  QS_BATHROOM    7109 non-null   float64\n",
            " 17  QS_BEDROOM     7109 non-null   float64\n",
            " 18  QS_OVERALL     7109 non-null   float64\n",
            " 19  REG_FEE        7109 non-null   int64  \n",
            " 20  COMMIS         7109 non-null   int64  \n",
            " 21  SALES_PRICE    7109 non-null   int64  \n",
            "dtypes: float64(4), int64(8), object(10)\n",
            "memory usage: 1.2+ MB\n"
          ]
        }
      ]
    },
    {
      "cell_type": "markdown",
      "source": [
        "#Changing DateTime Values into DateTime Objects"
      ],
      "metadata": {
        "id": "G29rNxiPdOXH"
      },
      "id": "G29rNxiPdOXH"
    },
    {
      "cell_type": "code",
      "source": [
        "df['DATE_SALE']=pd.to_datetime(df['DATE_SALE'])\n",
        "df['DATE_BUILD']=pd.to_datetime(df['DATE_BUILD'])"
      ],
      "metadata": {
        "id": "kTlGEd7vXrEv"
      },
      "id": "kTlGEd7vXrEv",
      "execution_count": 9,
      "outputs": []
    },
    {
      "cell_type": "markdown",
      "source": [
        "#Adding a new coloumn called BUILDING_AGE"
      ],
      "metadata": {
        "id": "xdl8DMf8hV24"
      },
      "id": "xdl8DMf8hV24"
    },
    {
      "cell_type": "code",
      "source": [
        "df[\"BUILDING_AGE\"]=df['DATE_SALE']-df['DATE_BUILD']\n",
        "df.head()\n"
      ],
      "metadata": {
        "colab": {
          "base_uri": "https://localhost:8080/",
          "height": 0
        },
        "id": "6qC9BdjtZd7n",
        "outputId": "28dd0b11-4c81-4891-c0e3-4eb7f618fe68"
      },
      "id": "6qC9BdjtZd7n",
      "execution_count": 10,
      "outputs": [
        {
          "output_type": "execute_result",
          "data": {
            "text/plain": [
              "   PRT_ID        AREA  INT_SQFT  DATE_SALE  DIST_MAINROAD  N_BEDROOM  \\\n",
              "0  P03210  Karapakkam      1004 2011-04-05            131          1   \n",
              "1  P09411  Anna Nagar      1986 2006-12-19             26          2   \n",
              "2  P01812       Adyar       909 2012-04-02             70          1   \n",
              "3  P05346   Velachery      1855 2010-03-13             14          3   \n",
              "4  P06210  Karapakkam      1226 2009-05-10             84          1   \n",
              "\n",
              "   N_BATHROOM  N_ROOM SALE_COND PARK_FACIL  ...  STREET MZZONE QS_ROOMS  \\\n",
              "0           1       3  AbNormal        Yes  ...   Paved      A      4.0   \n",
              "1           1       5  AbNormal         No  ...  Gravel     RH      4.9   \n",
              "2           1       3  AbNormal        Yes  ...  Gravel     RL      4.1   \n",
              "3           2       5    Family         No  ...   Paved      I      4.7   \n",
              "4           1       3  AbNormal        Yes  ...  Gravel      C      3.0   \n",
              "\n",
              "  QS_BATHROOM QS_BEDROOM  QS_OVERALL  REG_FEE  COMMIS  SALES_PRICE  \\\n",
              "0         3.9        4.9       4.330   380000  144400      7600000   \n",
              "1         4.2        2.5       3.765   760122  304049     21717770   \n",
              "2         3.8        2.2       3.090   421094   92114     13159200   \n",
              "3         3.9        3.6       4.010   356321   77042      9630290   \n",
              "4         2.5        4.1       3.290   237000   74063      7406250   \n",
              "\n",
              "   BUILDING_AGE  \n",
              "0    16031 days  \n",
              "1     4015 days  \n",
              "2     7152 days  \n",
              "3     8030 days  \n",
              "4    10802 days  \n",
              "\n",
              "[5 rows x 23 columns]"
            ],
            "text/html": [
              "\n",
              "  <div id=\"df-41bce2ae-978d-4534-9d29-ad25fec9f5ae\">\n",
              "    <div class=\"colab-df-container\">\n",
              "      <div>\n",
              "<style scoped>\n",
              "    .dataframe tbody tr th:only-of-type {\n",
              "        vertical-align: middle;\n",
              "    }\n",
              "\n",
              "    .dataframe tbody tr th {\n",
              "        vertical-align: top;\n",
              "    }\n",
              "\n",
              "    .dataframe thead th {\n",
              "        text-align: right;\n",
              "    }\n",
              "</style>\n",
              "<table border=\"1\" class=\"dataframe\">\n",
              "  <thead>\n",
              "    <tr style=\"text-align: right;\">\n",
              "      <th></th>\n",
              "      <th>PRT_ID</th>\n",
              "      <th>AREA</th>\n",
              "      <th>INT_SQFT</th>\n",
              "      <th>DATE_SALE</th>\n",
              "      <th>DIST_MAINROAD</th>\n",
              "      <th>N_BEDROOM</th>\n",
              "      <th>N_BATHROOM</th>\n",
              "      <th>N_ROOM</th>\n",
              "      <th>SALE_COND</th>\n",
              "      <th>PARK_FACIL</th>\n",
              "      <th>...</th>\n",
              "      <th>STREET</th>\n",
              "      <th>MZZONE</th>\n",
              "      <th>QS_ROOMS</th>\n",
              "      <th>QS_BATHROOM</th>\n",
              "      <th>QS_BEDROOM</th>\n",
              "      <th>QS_OVERALL</th>\n",
              "      <th>REG_FEE</th>\n",
              "      <th>COMMIS</th>\n",
              "      <th>SALES_PRICE</th>\n",
              "      <th>BUILDING_AGE</th>\n",
              "    </tr>\n",
              "  </thead>\n",
              "  <tbody>\n",
              "    <tr>\n",
              "      <th>0</th>\n",
              "      <td>P03210</td>\n",
              "      <td>Karapakkam</td>\n",
              "      <td>1004</td>\n",
              "      <td>2011-04-05</td>\n",
              "      <td>131</td>\n",
              "      <td>1</td>\n",
              "      <td>1</td>\n",
              "      <td>3</td>\n",
              "      <td>AbNormal</td>\n",
              "      <td>Yes</td>\n",
              "      <td>...</td>\n",
              "      <td>Paved</td>\n",
              "      <td>A</td>\n",
              "      <td>4.0</td>\n",
              "      <td>3.9</td>\n",
              "      <td>4.9</td>\n",
              "      <td>4.330</td>\n",
              "      <td>380000</td>\n",
              "      <td>144400</td>\n",
              "      <td>7600000</td>\n",
              "      <td>16031 days</td>\n",
              "    </tr>\n",
              "    <tr>\n",
              "      <th>1</th>\n",
              "      <td>P09411</td>\n",
              "      <td>Anna Nagar</td>\n",
              "      <td>1986</td>\n",
              "      <td>2006-12-19</td>\n",
              "      <td>26</td>\n",
              "      <td>2</td>\n",
              "      <td>1</td>\n",
              "      <td>5</td>\n",
              "      <td>AbNormal</td>\n",
              "      <td>No</td>\n",
              "      <td>...</td>\n",
              "      <td>Gravel</td>\n",
              "      <td>RH</td>\n",
              "      <td>4.9</td>\n",
              "      <td>4.2</td>\n",
              "      <td>2.5</td>\n",
              "      <td>3.765</td>\n",
              "      <td>760122</td>\n",
              "      <td>304049</td>\n",
              "      <td>21717770</td>\n",
              "      <td>4015 days</td>\n",
              "    </tr>\n",
              "    <tr>\n",
              "      <th>2</th>\n",
              "      <td>P01812</td>\n",
              "      <td>Adyar</td>\n",
              "      <td>909</td>\n",
              "      <td>2012-04-02</td>\n",
              "      <td>70</td>\n",
              "      <td>1</td>\n",
              "      <td>1</td>\n",
              "      <td>3</td>\n",
              "      <td>AbNormal</td>\n",
              "      <td>Yes</td>\n",
              "      <td>...</td>\n",
              "      <td>Gravel</td>\n",
              "      <td>RL</td>\n",
              "      <td>4.1</td>\n",
              "      <td>3.8</td>\n",
              "      <td>2.2</td>\n",
              "      <td>3.090</td>\n",
              "      <td>421094</td>\n",
              "      <td>92114</td>\n",
              "      <td>13159200</td>\n",
              "      <td>7152 days</td>\n",
              "    </tr>\n",
              "    <tr>\n",
              "      <th>3</th>\n",
              "      <td>P05346</td>\n",
              "      <td>Velachery</td>\n",
              "      <td>1855</td>\n",
              "      <td>2010-03-13</td>\n",
              "      <td>14</td>\n",
              "      <td>3</td>\n",
              "      <td>2</td>\n",
              "      <td>5</td>\n",
              "      <td>Family</td>\n",
              "      <td>No</td>\n",
              "      <td>...</td>\n",
              "      <td>Paved</td>\n",
              "      <td>I</td>\n",
              "      <td>4.7</td>\n",
              "      <td>3.9</td>\n",
              "      <td>3.6</td>\n",
              "      <td>4.010</td>\n",
              "      <td>356321</td>\n",
              "      <td>77042</td>\n",
              "      <td>9630290</td>\n",
              "      <td>8030 days</td>\n",
              "    </tr>\n",
              "    <tr>\n",
              "      <th>4</th>\n",
              "      <td>P06210</td>\n",
              "      <td>Karapakkam</td>\n",
              "      <td>1226</td>\n",
              "      <td>2009-05-10</td>\n",
              "      <td>84</td>\n",
              "      <td>1</td>\n",
              "      <td>1</td>\n",
              "      <td>3</td>\n",
              "      <td>AbNormal</td>\n",
              "      <td>Yes</td>\n",
              "      <td>...</td>\n",
              "      <td>Gravel</td>\n",
              "      <td>C</td>\n",
              "      <td>3.0</td>\n",
              "      <td>2.5</td>\n",
              "      <td>4.1</td>\n",
              "      <td>3.290</td>\n",
              "      <td>237000</td>\n",
              "      <td>74063</td>\n",
              "      <td>7406250</td>\n",
              "      <td>10802 days</td>\n",
              "    </tr>\n",
              "  </tbody>\n",
              "</table>\n",
              "<p>5 rows × 23 columns</p>\n",
              "</div>\n",
              "      <button class=\"colab-df-convert\" onclick=\"convertToInteractive('df-41bce2ae-978d-4534-9d29-ad25fec9f5ae')\"\n",
              "              title=\"Convert this dataframe to an interactive table.\"\n",
              "              style=\"display:none;\">\n",
              "        \n",
              "  <svg xmlns=\"http://www.w3.org/2000/svg\" height=\"24px\"viewBox=\"0 0 24 24\"\n",
              "       width=\"24px\">\n",
              "    <path d=\"M0 0h24v24H0V0z\" fill=\"none\"/>\n",
              "    <path d=\"M18.56 5.44l.94 2.06.94-2.06 2.06-.94-2.06-.94-.94-2.06-.94 2.06-2.06.94zm-11 1L8.5 8.5l.94-2.06 2.06-.94-2.06-.94L8.5 2.5l-.94 2.06-2.06.94zm10 10l.94 2.06.94-2.06 2.06-.94-2.06-.94-.94-2.06-.94 2.06-2.06.94z\"/><path d=\"M17.41 7.96l-1.37-1.37c-.4-.4-.92-.59-1.43-.59-.52 0-1.04.2-1.43.59L10.3 9.45l-7.72 7.72c-.78.78-.78 2.05 0 2.83L4 21.41c.39.39.9.59 1.41.59.51 0 1.02-.2 1.41-.59l7.78-7.78 2.81-2.81c.8-.78.8-2.07 0-2.86zM5.41 20L4 18.59l7.72-7.72 1.47 1.35L5.41 20z\"/>\n",
              "  </svg>\n",
              "      </button>\n",
              "      \n",
              "  <style>\n",
              "    .colab-df-container {\n",
              "      display:flex;\n",
              "      flex-wrap:wrap;\n",
              "      gap: 12px;\n",
              "    }\n",
              "\n",
              "    .colab-df-convert {\n",
              "      background-color: #E8F0FE;\n",
              "      border: none;\n",
              "      border-radius: 50%;\n",
              "      cursor: pointer;\n",
              "      display: none;\n",
              "      fill: #1967D2;\n",
              "      height: 32px;\n",
              "      padding: 0 0 0 0;\n",
              "      width: 32px;\n",
              "    }\n",
              "\n",
              "    .colab-df-convert:hover {\n",
              "      background-color: #E2EBFA;\n",
              "      box-shadow: 0px 1px 2px rgba(60, 64, 67, 0.3), 0px 1px 3px 1px rgba(60, 64, 67, 0.15);\n",
              "      fill: #174EA6;\n",
              "    }\n",
              "\n",
              "    [theme=dark] .colab-df-convert {\n",
              "      background-color: #3B4455;\n",
              "      fill: #D2E3FC;\n",
              "    }\n",
              "\n",
              "    [theme=dark] .colab-df-convert:hover {\n",
              "      background-color: #434B5C;\n",
              "      box-shadow: 0px 1px 3px 1px rgba(0, 0, 0, 0.15);\n",
              "      filter: drop-shadow(0px 1px 2px rgba(0, 0, 0, 0.3));\n",
              "      fill: #FFFFFF;\n",
              "    }\n",
              "  </style>\n",
              "\n",
              "      <script>\n",
              "        const buttonEl =\n",
              "          document.querySelector('#df-41bce2ae-978d-4534-9d29-ad25fec9f5ae button.colab-df-convert');\n",
              "        buttonEl.style.display =\n",
              "          google.colab.kernel.accessAllowed ? 'block' : 'none';\n",
              "\n",
              "        async function convertToInteractive(key) {\n",
              "          const element = document.querySelector('#df-41bce2ae-978d-4534-9d29-ad25fec9f5ae');\n",
              "          const dataTable =\n",
              "            await google.colab.kernel.invokeFunction('convertToInteractive',\n",
              "                                                     [key], {});\n",
              "          if (!dataTable) return;\n",
              "\n",
              "          const docLinkHtml = 'Like what you see? Visit the ' +\n",
              "            '<a target=\"_blank\" href=https://colab.research.google.com/notebooks/data_table.ipynb>data table notebook</a>'\n",
              "            + ' to learn more about interactive tables.';\n",
              "          element.innerHTML = '';\n",
              "          dataTable['output_type'] = 'display_data';\n",
              "          await google.colab.output.renderOutput(dataTable, element);\n",
              "          const docLink = document.createElement('div');\n",
              "          docLink.innerHTML = docLinkHtml;\n",
              "          element.appendChild(docLink);\n",
              "        }\n",
              "      </script>\n",
              "    </div>\n",
              "  </div>\n",
              "  "
            ]
          },
          "metadata": {},
          "execution_count": 10
        }
      ]
    },
    {
      "cell_type": "markdown",
      "source": [
        "Converting Building age to Years"
      ],
      "metadata": {
        "id": "kfCWU3vvdzMb"
      },
      "id": "kfCWU3vvdzMb"
    },
    {
      "cell_type": "code",
      "source": [
        "df[\"BUILDING_AGE\"]=(df.BUILDING_AGE)/np.timedelta64(1,'Y')\n"
      ],
      "metadata": {
        "id": "ewEPGhCl2Fyj"
      },
      "id": "ewEPGhCl2Fyj",
      "execution_count": 11,
      "outputs": []
    },
    {
      "cell_type": "markdown",
      "source": [
        "Converting Building age datatype to int"
      ],
      "metadata": {
        "id": "KkKIW9m9IgJl"
      },
      "id": "KkKIW9m9IgJl"
    },
    {
      "cell_type": "code",
      "source": [
        "df['BUILDING_AGE']= df['BUILDING_AGE'].astype(int)"
      ],
      "metadata": {
        "id": "_EnoqGg2WvM6"
      },
      "id": "_EnoqGg2WvM6",
      "execution_count": 12,
      "outputs": []
    },
    {
      "cell_type": "code",
      "source": [
        "df.head()"
      ],
      "metadata": {
        "colab": {
          "base_uri": "https://localhost:8080/",
          "height": 0
        },
        "id": "RW0cejj7WagD",
        "outputId": "6a12fdfa-16bb-45bc-f3e0-1c0162827f83"
      },
      "id": "RW0cejj7WagD",
      "execution_count": 13,
      "outputs": [
        {
          "output_type": "execute_result",
          "data": {
            "text/plain": [
              "   PRT_ID        AREA  INT_SQFT  DATE_SALE  DIST_MAINROAD  N_BEDROOM  \\\n",
              "0  P03210  Karapakkam      1004 2011-04-05            131          1   \n",
              "1  P09411  Anna Nagar      1986 2006-12-19             26          2   \n",
              "2  P01812       Adyar       909 2012-04-02             70          1   \n",
              "3  P05346   Velachery      1855 2010-03-13             14          3   \n",
              "4  P06210  Karapakkam      1226 2009-05-10             84          1   \n",
              "\n",
              "   N_BATHROOM  N_ROOM SALE_COND PARK_FACIL  ...  STREET MZZONE QS_ROOMS  \\\n",
              "0           1       3  AbNormal        Yes  ...   Paved      A      4.0   \n",
              "1           1       5  AbNormal         No  ...  Gravel     RH      4.9   \n",
              "2           1       3  AbNormal        Yes  ...  Gravel     RL      4.1   \n",
              "3           2       5    Family         No  ...   Paved      I      4.7   \n",
              "4           1       3  AbNormal        Yes  ...  Gravel      C      3.0   \n",
              "\n",
              "  QS_BATHROOM QS_BEDROOM  QS_OVERALL  REG_FEE  COMMIS  SALES_PRICE  \\\n",
              "0         3.9        4.9       4.330   380000  144400      7600000   \n",
              "1         4.2        2.5       3.765   760122  304049     21717770   \n",
              "2         3.8        2.2       3.090   421094   92114     13159200   \n",
              "3         3.9        3.6       4.010   356321   77042      9630290   \n",
              "4         2.5        4.1       3.290   237000   74063      7406250   \n",
              "\n",
              "   BUILDING_AGE  \n",
              "0            43  \n",
              "1            10  \n",
              "2            19  \n",
              "3            21  \n",
              "4            29  \n",
              "\n",
              "[5 rows x 23 columns]"
            ],
            "text/html": [
              "\n",
              "  <div id=\"df-482360ff-22ae-48d9-baf1-86c548db604e\">\n",
              "    <div class=\"colab-df-container\">\n",
              "      <div>\n",
              "<style scoped>\n",
              "    .dataframe tbody tr th:only-of-type {\n",
              "        vertical-align: middle;\n",
              "    }\n",
              "\n",
              "    .dataframe tbody tr th {\n",
              "        vertical-align: top;\n",
              "    }\n",
              "\n",
              "    .dataframe thead th {\n",
              "        text-align: right;\n",
              "    }\n",
              "</style>\n",
              "<table border=\"1\" class=\"dataframe\">\n",
              "  <thead>\n",
              "    <tr style=\"text-align: right;\">\n",
              "      <th></th>\n",
              "      <th>PRT_ID</th>\n",
              "      <th>AREA</th>\n",
              "      <th>INT_SQFT</th>\n",
              "      <th>DATE_SALE</th>\n",
              "      <th>DIST_MAINROAD</th>\n",
              "      <th>N_BEDROOM</th>\n",
              "      <th>N_BATHROOM</th>\n",
              "      <th>N_ROOM</th>\n",
              "      <th>SALE_COND</th>\n",
              "      <th>PARK_FACIL</th>\n",
              "      <th>...</th>\n",
              "      <th>STREET</th>\n",
              "      <th>MZZONE</th>\n",
              "      <th>QS_ROOMS</th>\n",
              "      <th>QS_BATHROOM</th>\n",
              "      <th>QS_BEDROOM</th>\n",
              "      <th>QS_OVERALL</th>\n",
              "      <th>REG_FEE</th>\n",
              "      <th>COMMIS</th>\n",
              "      <th>SALES_PRICE</th>\n",
              "      <th>BUILDING_AGE</th>\n",
              "    </tr>\n",
              "  </thead>\n",
              "  <tbody>\n",
              "    <tr>\n",
              "      <th>0</th>\n",
              "      <td>P03210</td>\n",
              "      <td>Karapakkam</td>\n",
              "      <td>1004</td>\n",
              "      <td>2011-04-05</td>\n",
              "      <td>131</td>\n",
              "      <td>1</td>\n",
              "      <td>1</td>\n",
              "      <td>3</td>\n",
              "      <td>AbNormal</td>\n",
              "      <td>Yes</td>\n",
              "      <td>...</td>\n",
              "      <td>Paved</td>\n",
              "      <td>A</td>\n",
              "      <td>4.0</td>\n",
              "      <td>3.9</td>\n",
              "      <td>4.9</td>\n",
              "      <td>4.330</td>\n",
              "      <td>380000</td>\n",
              "      <td>144400</td>\n",
              "      <td>7600000</td>\n",
              "      <td>43</td>\n",
              "    </tr>\n",
              "    <tr>\n",
              "      <th>1</th>\n",
              "      <td>P09411</td>\n",
              "      <td>Anna Nagar</td>\n",
              "      <td>1986</td>\n",
              "      <td>2006-12-19</td>\n",
              "      <td>26</td>\n",
              "      <td>2</td>\n",
              "      <td>1</td>\n",
              "      <td>5</td>\n",
              "      <td>AbNormal</td>\n",
              "      <td>No</td>\n",
              "      <td>...</td>\n",
              "      <td>Gravel</td>\n",
              "      <td>RH</td>\n",
              "      <td>4.9</td>\n",
              "      <td>4.2</td>\n",
              "      <td>2.5</td>\n",
              "      <td>3.765</td>\n",
              "      <td>760122</td>\n",
              "      <td>304049</td>\n",
              "      <td>21717770</td>\n",
              "      <td>10</td>\n",
              "    </tr>\n",
              "    <tr>\n",
              "      <th>2</th>\n",
              "      <td>P01812</td>\n",
              "      <td>Adyar</td>\n",
              "      <td>909</td>\n",
              "      <td>2012-04-02</td>\n",
              "      <td>70</td>\n",
              "      <td>1</td>\n",
              "      <td>1</td>\n",
              "      <td>3</td>\n",
              "      <td>AbNormal</td>\n",
              "      <td>Yes</td>\n",
              "      <td>...</td>\n",
              "      <td>Gravel</td>\n",
              "      <td>RL</td>\n",
              "      <td>4.1</td>\n",
              "      <td>3.8</td>\n",
              "      <td>2.2</td>\n",
              "      <td>3.090</td>\n",
              "      <td>421094</td>\n",
              "      <td>92114</td>\n",
              "      <td>13159200</td>\n",
              "      <td>19</td>\n",
              "    </tr>\n",
              "    <tr>\n",
              "      <th>3</th>\n",
              "      <td>P05346</td>\n",
              "      <td>Velachery</td>\n",
              "      <td>1855</td>\n",
              "      <td>2010-03-13</td>\n",
              "      <td>14</td>\n",
              "      <td>3</td>\n",
              "      <td>2</td>\n",
              "      <td>5</td>\n",
              "      <td>Family</td>\n",
              "      <td>No</td>\n",
              "      <td>...</td>\n",
              "      <td>Paved</td>\n",
              "      <td>I</td>\n",
              "      <td>4.7</td>\n",
              "      <td>3.9</td>\n",
              "      <td>3.6</td>\n",
              "      <td>4.010</td>\n",
              "      <td>356321</td>\n",
              "      <td>77042</td>\n",
              "      <td>9630290</td>\n",
              "      <td>21</td>\n",
              "    </tr>\n",
              "    <tr>\n",
              "      <th>4</th>\n",
              "      <td>P06210</td>\n",
              "      <td>Karapakkam</td>\n",
              "      <td>1226</td>\n",
              "      <td>2009-05-10</td>\n",
              "      <td>84</td>\n",
              "      <td>1</td>\n",
              "      <td>1</td>\n",
              "      <td>3</td>\n",
              "      <td>AbNormal</td>\n",
              "      <td>Yes</td>\n",
              "      <td>...</td>\n",
              "      <td>Gravel</td>\n",
              "      <td>C</td>\n",
              "      <td>3.0</td>\n",
              "      <td>2.5</td>\n",
              "      <td>4.1</td>\n",
              "      <td>3.290</td>\n",
              "      <td>237000</td>\n",
              "      <td>74063</td>\n",
              "      <td>7406250</td>\n",
              "      <td>29</td>\n",
              "    </tr>\n",
              "  </tbody>\n",
              "</table>\n",
              "<p>5 rows × 23 columns</p>\n",
              "</div>\n",
              "      <button class=\"colab-df-convert\" onclick=\"convertToInteractive('df-482360ff-22ae-48d9-baf1-86c548db604e')\"\n",
              "              title=\"Convert this dataframe to an interactive table.\"\n",
              "              style=\"display:none;\">\n",
              "        \n",
              "  <svg xmlns=\"http://www.w3.org/2000/svg\" height=\"24px\"viewBox=\"0 0 24 24\"\n",
              "       width=\"24px\">\n",
              "    <path d=\"M0 0h24v24H0V0z\" fill=\"none\"/>\n",
              "    <path d=\"M18.56 5.44l.94 2.06.94-2.06 2.06-.94-2.06-.94-.94-2.06-.94 2.06-2.06.94zm-11 1L8.5 8.5l.94-2.06 2.06-.94-2.06-.94L8.5 2.5l-.94 2.06-2.06.94zm10 10l.94 2.06.94-2.06 2.06-.94-2.06-.94-.94-2.06-.94 2.06-2.06.94z\"/><path d=\"M17.41 7.96l-1.37-1.37c-.4-.4-.92-.59-1.43-.59-.52 0-1.04.2-1.43.59L10.3 9.45l-7.72 7.72c-.78.78-.78 2.05 0 2.83L4 21.41c.39.39.9.59 1.41.59.51 0 1.02-.2 1.41-.59l7.78-7.78 2.81-2.81c.8-.78.8-2.07 0-2.86zM5.41 20L4 18.59l7.72-7.72 1.47 1.35L5.41 20z\"/>\n",
              "  </svg>\n",
              "      </button>\n",
              "      \n",
              "  <style>\n",
              "    .colab-df-container {\n",
              "      display:flex;\n",
              "      flex-wrap:wrap;\n",
              "      gap: 12px;\n",
              "    }\n",
              "\n",
              "    .colab-df-convert {\n",
              "      background-color: #E8F0FE;\n",
              "      border: none;\n",
              "      border-radius: 50%;\n",
              "      cursor: pointer;\n",
              "      display: none;\n",
              "      fill: #1967D2;\n",
              "      height: 32px;\n",
              "      padding: 0 0 0 0;\n",
              "      width: 32px;\n",
              "    }\n",
              "\n",
              "    .colab-df-convert:hover {\n",
              "      background-color: #E2EBFA;\n",
              "      box-shadow: 0px 1px 2px rgba(60, 64, 67, 0.3), 0px 1px 3px 1px rgba(60, 64, 67, 0.15);\n",
              "      fill: #174EA6;\n",
              "    }\n",
              "\n",
              "    [theme=dark] .colab-df-convert {\n",
              "      background-color: #3B4455;\n",
              "      fill: #D2E3FC;\n",
              "    }\n",
              "\n",
              "    [theme=dark] .colab-df-convert:hover {\n",
              "      background-color: #434B5C;\n",
              "      box-shadow: 0px 1px 3px 1px rgba(0, 0, 0, 0.15);\n",
              "      filter: drop-shadow(0px 1px 2px rgba(0, 0, 0, 0.3));\n",
              "      fill: #FFFFFF;\n",
              "    }\n",
              "  </style>\n",
              "\n",
              "      <script>\n",
              "        const buttonEl =\n",
              "          document.querySelector('#df-482360ff-22ae-48d9-baf1-86c548db604e button.colab-df-convert');\n",
              "        buttonEl.style.display =\n",
              "          google.colab.kernel.accessAllowed ? 'block' : 'none';\n",
              "\n",
              "        async function convertToInteractive(key) {\n",
              "          const element = document.querySelector('#df-482360ff-22ae-48d9-baf1-86c548db604e');\n",
              "          const dataTable =\n",
              "            await google.colab.kernel.invokeFunction('convertToInteractive',\n",
              "                                                     [key], {});\n",
              "          if (!dataTable) return;\n",
              "\n",
              "          const docLinkHtml = 'Like what you see? Visit the ' +\n",
              "            '<a target=\"_blank\" href=https://colab.research.google.com/notebooks/data_table.ipynb>data table notebook</a>'\n",
              "            + ' to learn more about interactive tables.';\n",
              "          element.innerHTML = '';\n",
              "          dataTable['output_type'] = 'display_data';\n",
              "          await google.colab.output.renderOutput(dataTable, element);\n",
              "          const docLink = document.createElement('div');\n",
              "          docLink.innerHTML = docLinkHtml;\n",
              "          element.appendChild(docLink);\n",
              "        }\n",
              "      </script>\n",
              "    </div>\n",
              "  </div>\n",
              "  "
            ]
          },
          "metadata": {},
          "execution_count": 13
        }
      ]
    },
    {
      "cell_type": "markdown",
      "source": [
        "#Checking the columns and dropping the irrelevent columns\n"
      ],
      "metadata": {
        "id": "MtPPqKDB8UGq"
      },
      "id": "MtPPqKDB8UGq"
    },
    {
      "cell_type": "code",
      "source": [
        "df.columns"
      ],
      "metadata": {
        "colab": {
          "base_uri": "https://localhost:8080/"
        },
        "id": "Eg4cZTBV8RbT",
        "outputId": "522ac924-8f67-4f96-c824-8fe704c7c4b8"
      },
      "id": "Eg4cZTBV8RbT",
      "execution_count": 14,
      "outputs": [
        {
          "output_type": "execute_result",
          "data": {
            "text/plain": [
              "Index(['PRT_ID', 'AREA', 'INT_SQFT', 'DATE_SALE', 'DIST_MAINROAD', 'N_BEDROOM',\n",
              "       'N_BATHROOM', 'N_ROOM', 'SALE_COND', 'PARK_FACIL', 'DATE_BUILD',\n",
              "       'BUILDTYPE', 'UTILITY_AVAIL', 'STREET', 'MZZONE', 'QS_ROOMS',\n",
              "       'QS_BATHROOM', 'QS_BEDROOM', 'QS_OVERALL', 'REG_FEE', 'COMMIS',\n",
              "       'SALES_PRICE', 'BUILDING_AGE'],\n",
              "      dtype='object')"
            ]
          },
          "metadata": {},
          "execution_count": 14
        }
      ]
    },
    {
      "cell_type": "code",
      "source": [
        "df.drop(columns=['PRT_ID','REG_FEE','COMMIS','DATE_SALE','DATE_BUILD'],inplace=True)"
      ],
      "metadata": {
        "id": "QXx485vc5bU8"
      },
      "id": "QXx485vc5bU8",
      "execution_count": 15,
      "outputs": []
    },
    {
      "cell_type": "code",
      "source": [
        "df.columns"
      ],
      "metadata": {
        "colab": {
          "base_uri": "https://localhost:8080/"
        },
        "id": "oIKbazfz9DqU",
        "outputId": "d37b63e8-7641-45c8-d0f7-752508ab24d7"
      },
      "id": "oIKbazfz9DqU",
      "execution_count": 16,
      "outputs": [
        {
          "output_type": "execute_result",
          "data": {
            "text/plain": [
              "Index(['AREA', 'INT_SQFT', 'DIST_MAINROAD', 'N_BEDROOM', 'N_BATHROOM',\n",
              "       'N_ROOM', 'SALE_COND', 'PARK_FACIL', 'BUILDTYPE', 'UTILITY_AVAIL',\n",
              "       'STREET', 'MZZONE', 'QS_ROOMS', 'QS_BATHROOM', 'QS_BEDROOM',\n",
              "       'QS_OVERALL', 'SALES_PRICE', 'BUILDING_AGE'],\n",
              "      dtype='object')"
            ]
          },
          "metadata": {},
          "execution_count": 16
        }
      ]
    },
    {
      "cell_type": "markdown",
      "source": [
        "#Exploring Categorical data"
      ],
      "metadata": {
        "id": "tUiehg2PYLJw"
      },
      "id": "tUiehg2PYLJw"
    },
    {
      "cell_type": "code",
      "source": [
        "df1=df.select_dtypes(include=['object'])\n",
        "print(f\"No.of Categorical columns = {df1.shape[1]}\")\n",
        "print(list(df1.columns))"
      ],
      "metadata": {
        "id": "lCYUgx3M9gHT",
        "colab": {
          "base_uri": "https://localhost:8080/"
        },
        "outputId": "62f4dbe9-c598-4683-aff7-8d1c62c6b343"
      },
      "id": "lCYUgx3M9gHT",
      "execution_count": 17,
      "outputs": [
        {
          "output_type": "stream",
          "name": "stdout",
          "text": [
            "No.of Categorical columns = 7\n",
            "['AREA', 'SALE_COND', 'PARK_FACIL', 'BUILDTYPE', 'UTILITY_AVAIL', 'STREET', 'MZZONE']\n"
          ]
        }
      ]
    },
    {
      "cell_type": "markdown",
      "source": [
        "Checking for no of occurrences in AREA Column"
      ],
      "metadata": {
        "id": "fuBKwld2Z0F5"
      },
      "id": "fuBKwld2Z0F5"
    },
    {
      "cell_type": "code",
      "source": [
        "df.AREA.value_counts()"
      ],
      "metadata": {
        "colab": {
          "base_uri": "https://localhost:8080/"
        },
        "id": "WFq4aM3OZv7I",
        "outputId": "7c6b1ab7-1648-4b32-e832-8a98b5fb3114"
      },
      "id": "WFq4aM3OZv7I",
      "execution_count": 18,
      "outputs": [
        {
          "output_type": "execute_result",
          "data": {
            "text/plain": [
              "Chrompet      1681\n",
              "Karapakkam    1363\n",
              "KK Nagar       996\n",
              "Velachery      979\n",
              "Anna Nagar     783\n",
              "Adyar          773\n",
              "T Nagar        496\n",
              "Chrompt          9\n",
              "Chrmpet          6\n",
              "Chormpet         6\n",
              "TNagar           5\n",
              "Karapakam        3\n",
              "Ana Nagar        3\n",
              "Velchery         2\n",
              "Ann Nagar        2\n",
              "Adyr             1\n",
              "KKNagar          1\n",
              "Name: AREA, dtype: int64"
            ]
          },
          "metadata": {},
          "execution_count": 18
        }
      ]
    },
    {
      "cell_type": "markdown",
      "source": [
        "Correcting the spelling Mistakes"
      ],
      "metadata": {
        "id": "nKzoMTn0aijF"
      },
      "id": "nKzoMTn0aijF"
    },
    {
      "cell_type": "code",
      "source": [
        "df['AREA'].replace({\"Chrompt\":\"Chrompet\",\"Chrmpet\":\"Chrompet\",\"Chormpet\":\"Chrompet\"},inplace = True)\n",
        "df['AREA'].replace({\"Karapakam\":\"Karapakkam\"},inplace = True)\n",
        "df['AREA'].replace({\"KKNagar\":\"KK Nagar\"},inplace=True)\n",
        "df['AREA'].replace({\"Ann Nagar\":\"Anna Nagar\",\"Ana Nagar\":\"Anna Nagar\"},inplace=True)\n",
        "df['AREA'].replace({\"Velchery\":\"Velachery\"},inplace=True)\n",
        "df['AREA'].replace({\"Adyr\":\"Adyar\"},inplace=True)\n",
        "df['AREA'].replace({\"TNagar\":\"Adyar\"},inplace=True)"
      ],
      "metadata": {
        "id": "2WYshGZ5alYH"
      },
      "id": "2WYshGZ5alYH",
      "execution_count": 19,
      "outputs": []
    },
    {
      "cell_type": "code",
      "source": [
        "df.AREA.value_counts()"
      ],
      "metadata": {
        "colab": {
          "base_uri": "https://localhost:8080/"
        },
        "id": "DbFqykyEI_Io",
        "outputId": "8bfa2d17-33a6-4ffb-8f84-91e17c4e08cd"
      },
      "id": "DbFqykyEI_Io",
      "execution_count": 20,
      "outputs": [
        {
          "output_type": "execute_result",
          "data": {
            "text/plain": [
              "Chrompet      1702\n",
              "Karapakkam    1366\n",
              "KK Nagar       997\n",
              "Velachery      981\n",
              "Anna Nagar     788\n",
              "Adyar          779\n",
              "T Nagar        496\n",
              "Name: AREA, dtype: int64"
            ]
          },
          "metadata": {},
          "execution_count": 20
        }
      ]
    },
    {
      "cell_type": "markdown",
      "source": [
        "Checking for no of occurrences in SALE_COND Column"
      ],
      "metadata": {
        "id": "0BaBhtQrMP74"
      },
      "id": "0BaBhtQrMP74"
    },
    {
      "cell_type": "code",
      "source": [
        "df.SALE_COND.value_counts()"
      ],
      "metadata": {
        "colab": {
          "base_uri": "https://localhost:8080/"
        },
        "id": "aOXw3239MZld",
        "outputId": "44519f02-60a6-4245-e779-37c41b1b1f6d"
      },
      "id": "aOXw3239MZld",
      "execution_count": 21,
      "outputs": [
        {
          "output_type": "execute_result",
          "data": {
            "text/plain": [
              "AdjLand        1433\n",
              "Partial        1429\n",
              "Normal Sale    1423\n",
              "AbNormal       1406\n",
              "Family         1403\n",
              "Adj Land          6\n",
              "Ab Normal         5\n",
              "Partiall          3\n",
              "PartiaLl          1\n",
              "Name: SALE_COND, dtype: int64"
            ]
          },
          "metadata": {},
          "execution_count": 21
        }
      ]
    },
    {
      "cell_type": "markdown",
      "source": [
        "Correcting the spelling Mistakes"
      ],
      "metadata": {
        "id": "YOtXuIO4MoI4"
      },
      "id": "YOtXuIO4MoI4"
    },
    {
      "cell_type": "code",
      "source": [
        "df['SALE_COND'].replace({\"Adj Land\":\"AdjLand\"},inplace=True)\n",
        "df['SALE_COND'].replace({\"Ab Normal\":\"AbNormal\"},inplace=True)\n",
        "df['SALE_COND'].replace({\"PartiaLl\":\"Partial\",\"Partiall\":\"Partial\"},inplace=True)"
      ],
      "metadata": {
        "id": "zcUPXt8vMngt"
      },
      "id": "zcUPXt8vMngt",
      "execution_count": 22,
      "outputs": []
    },
    {
      "cell_type": "code",
      "source": [
        "df.SALE_COND.value_counts()"
      ],
      "metadata": {
        "colab": {
          "base_uri": "https://localhost:8080/"
        },
        "id": "6D6rraa6NORd",
        "outputId": "a042e4a5-4933-48c8-8fd2-020b9dac04aa"
      },
      "id": "6D6rraa6NORd",
      "execution_count": 23,
      "outputs": [
        {
          "output_type": "execute_result",
          "data": {
            "text/plain": [
              "AdjLand        1439\n",
              "Partial        1433\n",
              "Normal Sale    1423\n",
              "AbNormal       1411\n",
              "Family         1403\n",
              "Name: SALE_COND, dtype: int64"
            ]
          },
          "metadata": {},
          "execution_count": 23
        }
      ]
    },
    {
      "cell_type": "markdown",
      "source": [
        "Checking for no of occurrences in PARK_FACIL Column"
      ],
      "metadata": {
        "id": "wKnC_AiSNZnd"
      },
      "id": "wKnC_AiSNZnd"
    },
    {
      "cell_type": "code",
      "source": [
        "df.PARK_FACIL.value_counts()"
      ],
      "metadata": {
        "colab": {
          "base_uri": "https://localhost:8080/"
        },
        "id": "GCSRET0UNYTB",
        "outputId": "f6a4dbb1-268e-485a-b350-f69185333aca"
      },
      "id": "GCSRET0UNYTB",
      "execution_count": 24,
      "outputs": [
        {
          "output_type": "execute_result",
          "data": {
            "text/plain": [
              "Yes    3587\n",
              "No     3520\n",
              "Noo       2\n",
              "Name: PARK_FACIL, dtype: int64"
            ]
          },
          "metadata": {},
          "execution_count": 24
        }
      ]
    },
    {
      "cell_type": "markdown",
      "source": [
        "Correcting the spelling Mistakes"
      ],
      "metadata": {
        "id": "U_79eJoZNY61"
      },
      "id": "U_79eJoZNY61"
    },
    {
      "cell_type": "code",
      "source": [
        "df['PARK_FACIL'].replace({\"Noo\":\"No\"},inplace=True)"
      ],
      "metadata": {
        "id": "NOyL0Vq6Nnfc"
      },
      "id": "NOyL0Vq6Nnfc",
      "execution_count": 25,
      "outputs": []
    },
    {
      "cell_type": "code",
      "source": [
        "df.PARK_FACIL.value_counts()"
      ],
      "metadata": {
        "colab": {
          "base_uri": "https://localhost:8080/"
        },
        "id": "m9ILN5XMNucX",
        "outputId": "01c08c95-5b2a-42b7-b2dc-2aa6d0603104"
      },
      "id": "m9ILN5XMNucX",
      "execution_count": 26,
      "outputs": [
        {
          "output_type": "execute_result",
          "data": {
            "text/plain": [
              "Yes    3587\n",
              "No     3522\n",
              "Name: PARK_FACIL, dtype: int64"
            ]
          },
          "metadata": {},
          "execution_count": 26
        }
      ]
    },
    {
      "cell_type": "markdown",
      "source": [
        "Checking for no of occurrences in BUILDTYPE Column\n",
        "\n"
      ],
      "metadata": {
        "id": "q3K3z7ThN1EG"
      },
      "id": "q3K3z7ThN1EG"
    },
    {
      "cell_type": "code",
      "source": [
        "df.BUILDTYPE.value_counts()"
      ],
      "metadata": {
        "colab": {
          "base_uri": "https://localhost:8080/"
        },
        "id": "lhj5H4axN5_N",
        "outputId": "35123bcf-ee6d-40cc-cf9e-7237033d860c"
      },
      "id": "lhj5H4axN5_N",
      "execution_count": 27,
      "outputs": [
        {
          "output_type": "execute_result",
          "data": {
            "text/plain": [
              "House         2444\n",
              "Commercial    2325\n",
              "Others        2310\n",
              "Other           26\n",
              "Comercial        4\n",
              "Name: BUILDTYPE, dtype: int64"
            ]
          },
          "metadata": {},
          "execution_count": 27
        }
      ]
    },
    {
      "cell_type": "markdown",
      "source": [
        "Correcting the spelling Mistakes"
      ],
      "metadata": {
        "id": "lXj22PvBOJ_n"
      },
      "id": "lXj22PvBOJ_n"
    },
    {
      "cell_type": "code",
      "source": [
        "df['BUILDTYPE'].replace({\"Others\":\"Other\",\"Comercial\":\"Commercial\"},inplace=True)"
      ],
      "metadata": {
        "id": "y2qv_dF0OKy9"
      },
      "id": "y2qv_dF0OKy9",
      "execution_count": 28,
      "outputs": []
    },
    {
      "cell_type": "code",
      "source": [
        "df.BUILDTYPE.value_counts()"
      ],
      "metadata": {
        "colab": {
          "base_uri": "https://localhost:8080/"
        },
        "id": "GzPli-rSOZkO",
        "outputId": "dd0c028e-8561-4d28-edc4-a5793cbfd5f6"
      },
      "id": "GzPli-rSOZkO",
      "execution_count": 29,
      "outputs": [
        {
          "output_type": "execute_result",
          "data": {
            "text/plain": [
              "House         2444\n",
              "Other         2336\n",
              "Commercial    2329\n",
              "Name: BUILDTYPE, dtype: int64"
            ]
          },
          "metadata": {},
          "execution_count": 29
        }
      ]
    },
    {
      "cell_type": "markdown",
      "source": [
        "Checking for no of occurrences in UTILITY_AVAIL Column"
      ],
      "metadata": {
        "id": "Ccma6HzWOipX"
      },
      "id": "Ccma6HzWOipX"
    },
    {
      "cell_type": "code",
      "source": [
        "df.UTILITY_AVAIL.value_counts()"
      ],
      "metadata": {
        "colab": {
          "base_uri": "https://localhost:8080/"
        },
        "id": "EsX5zn3LOkce",
        "outputId": "039354fe-064c-44c0-e38c-1ffea79af611"
      },
      "id": "EsX5zn3LOkce",
      "execution_count": 30,
      "outputs": [
        {
          "output_type": "execute_result",
          "data": {
            "text/plain": [
              "AllPub     1886\n",
              "NoSeWa     1871\n",
              "NoSewr     1829\n",
              "ELO        1522\n",
              "All Pub       1\n",
              "Name: UTILITY_AVAIL, dtype: int64"
            ]
          },
          "metadata": {},
          "execution_count": 30
        }
      ]
    },
    {
      "cell_type": "markdown",
      "source": [
        "Correcting the spelling Mistakes"
      ],
      "metadata": {
        "id": "F4HKHBaJPlI1"
      },
      "id": "F4HKHBaJPlI1"
    },
    {
      "cell_type": "code",
      "source": [
        "df['UTILITY_AVAIL'].replace({\"All Pub\":\"AllPub\"},inplace=True)"
      ],
      "metadata": {
        "id": "yeRKamGGO6Ad"
      },
      "id": "yeRKamGGO6Ad",
      "execution_count": 31,
      "outputs": []
    },
    {
      "cell_type": "code",
      "source": [
        "df.UTILITY_AVAIL.value_counts()"
      ],
      "metadata": {
        "colab": {
          "base_uri": "https://localhost:8080/"
        },
        "id": "ayuL0jpuPGPV",
        "outputId": "8547c150-110b-4d68-8a52-484e6b8810a1"
      },
      "id": "ayuL0jpuPGPV",
      "execution_count": 32,
      "outputs": [
        {
          "output_type": "execute_result",
          "data": {
            "text/plain": [
              "AllPub     1887\n",
              "NoSeWa     1871\n",
              "NoSewr     1829\n",
              "ELO        1522\n",
              "Name: UTILITY_AVAIL, dtype: int64"
            ]
          },
          "metadata": {},
          "execution_count": 32
        }
      ]
    },
    {
      "cell_type": "markdown",
      "source": [
        "Checking for no of occurrences in STREET Column"
      ],
      "metadata": {
        "id": "0qvhCXikP3qf"
      },
      "id": "0qvhCXikP3qf"
    },
    {
      "cell_type": "code",
      "source": [
        "df.STREET.value_counts()"
      ],
      "metadata": {
        "colab": {
          "base_uri": "https://localhost:8080/"
        },
        "id": "VnkkGWJTOr51",
        "outputId": "48618642-166d-410b-bd87-abd16799da5f"
      },
      "id": "VnkkGWJTOr51",
      "execution_count": 33,
      "outputs": [
        {
          "output_type": "execute_result",
          "data": {
            "text/plain": [
              "Paved        2560\n",
              "Gravel       2520\n",
              "No Access    2010\n",
              "Pavd           12\n",
              "NoAccess        7\n",
              "Name: STREET, dtype: int64"
            ]
          },
          "metadata": {},
          "execution_count": 33
        }
      ]
    },
    {
      "cell_type": "markdown",
      "source": [
        "Correcting the spelling Mistakes"
      ],
      "metadata": {
        "id": "Tn2mixtiQKE-"
      },
      "id": "Tn2mixtiQKE-"
    },
    {
      "cell_type": "code",
      "source": [
        "df['STREET'].replace({\"Pavd\":\"Paved\",\"NoAccess\":\"No Access\"},inplace=True)"
      ],
      "metadata": {
        "id": "eVklq2T6QJvu"
      },
      "id": "eVklq2T6QJvu",
      "execution_count": 34,
      "outputs": []
    },
    {
      "cell_type": "code",
      "source": [
        "df.STREET.value_counts()"
      ],
      "metadata": {
        "colab": {
          "base_uri": "https://localhost:8080/"
        },
        "id": "0YQ1DYZpQZyF",
        "outputId": "163f4e40-b4ac-423e-ecb1-2d29ae48256c"
      },
      "id": "0YQ1DYZpQZyF",
      "execution_count": 35,
      "outputs": [
        {
          "output_type": "execute_result",
          "data": {
            "text/plain": [
              "Paved        2572\n",
              "Gravel       2520\n",
              "No Access    2017\n",
              "Name: STREET, dtype: int64"
            ]
          },
          "metadata": {},
          "execution_count": 35
        }
      ]
    },
    {
      "cell_type": "markdown",
      "source": [
        "Checking for no of occurrences in MZZONE Column"
      ],
      "metadata": {
        "id": "Ybvvn4rlP8_e"
      },
      "id": "Ybvvn4rlP8_e"
    },
    {
      "cell_type": "code",
      "source": [
        "df.MZZONE.value_counts()"
      ],
      "metadata": {
        "colab": {
          "base_uri": "https://localhost:8080/"
        },
        "id": "obKEic9POzKt",
        "outputId": "e504c6eb-f2f3-4ffa-fd29-eddafbf7f0d4"
      },
      "id": "obKEic9POzKt",
      "execution_count": 36,
      "outputs": [
        {
          "output_type": "execute_result",
          "data": {
            "text/plain": [
              "RL    1858\n",
              "RH    1822\n",
              "RM    1817\n",
              "C      550\n",
              "A      537\n",
              "I      525\n",
              "Name: MZZONE, dtype: int64"
            ]
          },
          "metadata": {},
          "execution_count": 36
        }
      ]
    },
    {
      "cell_type": "markdown",
      "source": [
        "#Ploting the occurances of each data in the Categorical Columns\n"
      ],
      "metadata": {
        "id": "SQBk-M4BKMpk"
      },
      "id": "SQBk-M4BKMpk"
    },
    {
      "cell_type": "markdown",
      "source": [
        "No of Occurances in Area Column"
      ],
      "metadata": {
        "id": "KdW-AtHqV0m6"
      },
      "id": "KdW-AtHqV0m6"
    },
    {
      "cell_type": "code",
      "source": [
        "plt.figure(figsize=(6,3))\n",
        "plt.title(\"Area Vs Occurances\")\n",
        "df.AREA.value_counts().plot(kind='bar',color=\"cyan\")\n",
        "plt.xticks(rotation=45)\n",
        "plt.show()"
      ],
      "metadata": {
        "colab": {
          "base_uri": "https://localhost:8080/",
          "height": 268
        },
        "id": "xsj73yyUKL4Q",
        "outputId": "95e75ed5-8b89-490a-d881-e1055f8370e0"
      },
      "id": "xsj73yyUKL4Q",
      "execution_count": 37,
      "outputs": [
        {
          "output_type": "display_data",
          "data": {
            "text/plain": [
              "<Figure size 432x216 with 1 Axes>"
            ],
            "image/png": "[encoded data removed]"
          },
          "metadata": {
            "needs_background": "light"
          }
        }
      ]
    },
    {
      "cell_type": "markdown",
      "source": [
        "No of Occurances in SALE_COND Column"
      ],
      "metadata": {
        "id": "yVt0wF72WGJf"
      },
      "id": "yVt0wF72WGJf"
    },
    {
      "cell_type": "code",
      "source": [
        "plt.figure(figsize=(6,3))\n",
        "plt.title(\"Sale Condition Vs Occurances\")\n",
        "df.SALE_COND.value_counts().plot(kind='bar',color=\"cyan\")\n",
        "plt.xticks(rotation=0)\n",
        "plt.show()"
      ],
      "metadata": {
        "colab": {
          "base_uri": "https://localhost:8080/",
          "height": 227
        },
        "id": "RjBHsoXCWHNP",
        "outputId": "4afd4d74-e378-4d74-f30e-db11c8c3c4a0"
      },
      "id": "RjBHsoXCWHNP",
      "execution_count": 38,
      "outputs": [
        {
          "output_type": "display_data",
          "data": {
            "text/plain": [
              "<Figure size 432x216 with 1 Axes>"
            ],
            "image/png": "[encoded data removed]"
          },
          "metadata": {
            "needs_background": "light"
          }
        }
      ]
    },
    {
      "cell_type": "markdown",
      "source": [
        "No of Occurances in PARK_FACIL Column"
      ],
      "metadata": {
        "id": "gzCFprFhWHq3"
      },
      "id": "gzCFprFhWHq3"
    },
    {
      "cell_type": "code",
      "source": [
        "plt.figure(figsize=(6,3))\n",
        "plt.title(\"Parking Facility Vs Occurances\")\n",
        "df.PARK_FACIL.value_counts().plot(kind='bar',color=\"cyan\")\n",
        "plt.xticks(rotation=0)\n",
        "plt.show()"
      ],
      "metadata": {
        "colab": {
          "base_uri": "https://localhost:8080/",
          "height": 227
        },
        "id": "HE2qNmFXWIUP",
        "outputId": "c4ff5817-d0b9-496c-bdb8-bae937c5fc7e"
      },
      "id": "HE2qNmFXWIUP",
      "execution_count": 39,
      "outputs": [
        {
          "output_type": "display_data",
          "data": {
            "text/plain": [
              "<Figure size 432x216 with 1 Axes>"
            ],
            "image/png": "[encoded data removed]"
          },
          "metadata": {
            "needs_background": "light"
          }
        }
      ]
    },
    {
      "cell_type": "markdown",
      "source": [
        "No of Occurances in BUILDTYPE Column"
      ],
      "metadata": {
        "id": "8GxWiXuoWIte"
      },
      "id": "8GxWiXuoWIte"
    },
    {
      "cell_type": "code",
      "source": [
        "plt.figure(figsize=(6,3))\n",
        "plt.title(\"Building Type Vs Occurances\")\n",
        "df.BUILDTYPE.value_counts().plot(kind='bar',color=\"cyan\")\n",
        "plt.xticks(rotation=0)\n",
        "plt.show()"
      ],
      "metadata": {
        "colab": {
          "base_uri": "https://localhost:8080/",
          "height": 227
        },
        "id": "1tTibKa2WJbO",
        "outputId": "ede1a97e-ffbf-4d49-f915-6d8189ac06bd"
      },
      "id": "1tTibKa2WJbO",
      "execution_count": 40,
      "outputs": [
        {
          "output_type": "display_data",
          "data": {
            "text/plain": [
              "<Figure size 432x216 with 1 Axes>"
            ],
            "image/png": "[encoded data removed]"
          },
          "metadata": {
            "needs_background": "light"
          }
        }
      ]
    },
    {
      "cell_type": "markdown",
      "source": [
        "No of Occurances in UTILITY_AVAIL Column"
      ],
      "metadata": {
        "id": "4up9qNdgWJqP"
      },
      "id": "4up9qNdgWJqP"
    },
    {
      "cell_type": "code",
      "source": [
        "plt.figure(figsize=(6,3))\n",
        "plt.title(\"Utility Available Vs Occurances\")\n",
        "df.UTILITY_AVAIL.value_counts().plot(kind='bar',color=\"cyan\")\n",
        "plt.xticks(rotation=0)\n",
        "plt.show()"
      ],
      "metadata": {
        "colab": {
          "base_uri": "https://localhost:8080/",
          "height": 227
        },
        "id": "6vVJN1riWKVG",
        "outputId": "90cc6fd3-be2c-4bdd-ec4f-20ed87fda085"
      },
      "id": "6vVJN1riWKVG",
      "execution_count": 41,
      "outputs": [
        {
          "output_type": "display_data",
          "data": {
            "text/plain": [
              "<Figure size 432x216 with 1 Axes>"
            ],
            "image/png": "[encoded data removed]"
          },
          "metadata": {
            "needs_background": "light"
          }
        }
      ]
    },
    {
      "cell_type": "markdown",
      "source": [
        "No of Occurances in STREET Column"
      ],
      "metadata": {
        "id": "MwfFi96YWKsv"
      },
      "id": "MwfFi96YWKsv"
    },
    {
      "cell_type": "code",
      "source": [
        "plt.figure(figsize=(6,3))\n",
        "plt.title(\"Street Vs Occurances\")\n",
        "df.STREET.value_counts().plot(kind='bar',color=\"cyan\")\n",
        "plt.xticks(rotation=0)\n",
        "plt.show()"
      ],
      "metadata": {
        "colab": {
          "base_uri": "https://localhost:8080/",
          "height": 227
        },
        "id": "SCwMXdmTWMOH",
        "outputId": "73cd3287-2c83-4ff1-9c41-685f0f285bd1"
      },
      "id": "SCwMXdmTWMOH",
      "execution_count": 42,
      "outputs": [
        {
          "output_type": "display_data",
          "data": {
            "text/plain": [
              "<Figure size 432x216 with 1 Axes>"
            ],
            "image/png": "[encoded data removed]"
          },
          "metadata": {
            "needs_background": "light"
          }
        }
      ]
    },
    {
      "cell_type": "markdown",
      "source": [
        "No of Occurances in MZZONE Column"
      ],
      "metadata": {
        "id": "1BQIk-84WMg-"
      },
      "id": "1BQIk-84WMg-"
    },
    {
      "cell_type": "code",
      "source": [
        "plt.figure(figsize=(6,3))\n",
        "plt.title(\"Zone Vs Occurances\")\n",
        "df.MZZONE.value_counts().plot(kind='bar',color=\"cyan\")\n",
        "plt.xticks(rotation=0)\n",
        "plt.show()"
      ],
      "metadata": {
        "colab": {
          "base_uri": "https://localhost:8080/",
          "height": 227
        },
        "id": "K_AehtdyWOpu",
        "outputId": "58737991-e222-43eb-e79c-7f0e49ff607c"
      },
      "id": "K_AehtdyWOpu",
      "execution_count": 43,
      "outputs": [
        {
          "output_type": "display_data",
          "data": {
            "text/plain": [
              "<Figure size 432x216 with 1 Axes>"
            ],
            "image/png": "[encoded data removed]"
          },
          "metadata": {
            "needs_background": "light"
          }
        }
      ]
    },
    {
      "cell_type": "markdown",
      "source": [
        "#Plotting the relationship between Categorical Feature data's vs Target data"
      ],
      "metadata": {
        "id": "yaieyhnYGRYd"
      },
      "id": "yaieyhnYGRYd"
    },
    {
      "cell_type": "code",
      "source": [
        "catdata = df.dtypes[df.dtypes == \"object\"].index\n",
        "print(\"Number of Categorical features: \", len(catdata))"
      ],
      "metadata": {
        "colab": {
          "base_uri": "https://localhost:8080/"
        },
        "id": "-5x1UqviLrsN",
        "outputId": "887f2a9a-9ff6-4c76-ac8b-bbdb55dbdb22"
      },
      "id": "-5x1UqviLrsN",
      "execution_count": 44,
      "outputs": [
        {
          "output_type": "stream",
          "name": "stdout",
          "text": [
            "Number of Categorical features:  7\n"
          ]
        }
      ]
    },
    {
      "cell_type": "code",
      "source": [
        "catdata"
      ],
      "metadata": {
        "colab": {
          "base_uri": "https://localhost:8080/"
        },
        "id": "efJtxHPCL2fg",
        "outputId": "0280697a-bcc6-407b-cb73-31f79aee98fe"
      },
      "id": "efJtxHPCL2fg",
      "execution_count": 45,
      "outputs": [
        {
          "output_type": "execute_result",
          "data": {
            "text/plain": [
              "Index(['AREA', 'SALE_COND', 'PARK_FACIL', 'BUILDTYPE', 'UTILITY_AVAIL',\n",
              "       'STREET', 'MZZONE'],\n",
              "      dtype='object')"
            ]
          },
          "metadata": {},
          "execution_count": 45
        }
      ]
    },
    {
      "cell_type": "markdown",
      "source": [
        "Arranging the Area column with respect to Sales Price and plotting the data"
      ],
      "metadata": {
        "id": "VRjPIi4FC880"
      },
      "id": "VRjPIi4FC880"
    },
    {
      "cell_type": "code",
      "source": [
        "result=df.groupby([\"AREA\"])['SALES_PRICE'].mean().reset_index().sort_values(\"SALES_PRICE\")"
      ],
      "metadata": {
        "id": "rUX2svXlBxID"
      },
      "id": "rUX2svXlBxID",
      "execution_count": 46,
      "outputs": []
    },
    {
      "cell_type": "markdown",
      "source": [
        "Plotting the relation between AREA and Sales Price\n",
        "\n"
      ],
      "metadata": {
        "id": "kLT-7yk4DQXe"
      },
      "id": "kLT-7yk4DQXe"
    },
    {
      "cell_type": "code",
      "source": [
        "plt.figure(figsize=(7,4))\n",
        "plt.title(\"Area vs Sales price\", fontsize=16, va='bottom')\n",
        "br1=sns.barplot(x='AREA',y=\"SALES_PRICE\", data=result)\n",
        "plt.xticks(rotation=45)\n",
        "plt.show()"
      ],
      "metadata": {
        "colab": {
          "base_uri": "https://localhost:8080/",
          "height": 341
        },
        "id": "5mD94E1m4aTb",
        "outputId": "96eaee2c-0acf-4e7e-fba3-2dee0142805b"
      },
      "id": "5mD94E1m4aTb",
      "execution_count": 47,
      "outputs": [
        {
          "output_type": "display_data",
          "data": {
            "text/plain": [
              "<Figure size 504x288 with 1 Axes>"
            ],
            "image/png": "[encoded data removed]"
          },
          "metadata": {
            "needs_background": "light"
          }
        }
      ]
    },
    {
      "cell_type": "markdown",
      "source": [
        "From the above Graph,\n",
        "\n",
        "\n",
        "*   There is a Linear relationship between AREA(Feature) and Sales price(Target)\n",
        "*   We will go for label encoding for AREA column\n",
        "*   Karapakkam has least value and T Nagr has the highest value.\n",
        "\n"
      ],
      "metadata": {
        "id": "0biasB6nDahc"
      },
      "id": "0biasB6nDahc"
    },
    {
      "cell_type": "markdown",
      "source": [
        "Plotting the relation between Sale Condition and Sales Price"
      ],
      "metadata": {
        "id": "ZmwNdre8BP3R"
      },
      "id": "ZmwNdre8BP3R"
    },
    {
      "cell_type": "code",
      "source": [
        "result=df.groupby([\"SALE_COND\"])['SALES_PRICE'].mean().reset_index().sort_values(\"SALES_PRICE\")"
      ],
      "metadata": {
        "id": "T9YKPkHZBs-Q"
      },
      "id": "T9YKPkHZBs-Q",
      "execution_count": 48,
      "outputs": []
    },
    {
      "cell_type": "code",
      "source": [
        "plt.figure(figsize=(7,4))\n",
        "plt.title(\"Sale Condition vs Sales price\", fontsize=16, va='bottom')\n",
        "br1=sns.barplot(x='SALE_COND',y=\"SALES_PRICE\", data=result)\n",
        "plt.xticks(rotation=0)\n",
        "plt.show()"
      ],
      "metadata": {
        "colab": {
          "base_uri": "https://localhost:8080/",
          "height": 301
        },
        "id": "j4bkSQOaBPmb",
        "outputId": "1ed8a85f-0523-4cf6-8ab2-d40cbe927008"
      },
      "id": "j4bkSQOaBPmb",
      "execution_count": 49,
      "outputs": [
        {
          "output_type": "display_data",
          "data": {
            "text/plain": [
              "<Figure size 504x288 with 1 Axes>"
            ],
            "image/png": "[encoded data removed]"
          },
          "metadata": {
            "needs_background": "light"
          }
        }
      ]
    },
    {
      "cell_type": "markdown",
      "source": [
        "From the above Graph,\n",
        "\n",
        "*   Houses that had adjoining land were sold for a higher price\n",
        "*   Partial had the lowest price\n",
        "*   We will go for label encoding for SALE_COND column\n",
        "\n",
        "\n",
        "\n"
      ],
      "metadata": {
        "id": "8AG2Uhi_FxJH"
      },
      "id": "8AG2Uhi_FxJH"
    },
    {
      "cell_type": "markdown",
      "source": [
        "Plotting the relation between Park Facility and Sales Price\n",
        "\n",
        "\n",
        "\n"
      ],
      "metadata": {
        "id": "zEb_qvbNB8Wi"
      },
      "id": "zEb_qvbNB8Wi"
    },
    {
      "cell_type": "code",
      "source": [
        "result=df.groupby([\"PARK_FACIL\"])['SALES_PRICE'].mean().reset_index().sort_values(\"SALES_PRICE\")"
      ],
      "metadata": {
        "id": "PKc9hP14ChHx"
      },
      "id": "PKc9hP14ChHx",
      "execution_count": 50,
      "outputs": []
    },
    {
      "cell_type": "code",
      "source": [
        "plt.figure(figsize=(7,4))\n",
        "plt.title(\"Park Facility vs Sales price\", fontsize=16, va='bottom')\n",
        "br1=sns.barplot(x='PARK_FACIL',y=\"SALES_PRICE\", data=result)\n",
        "plt.xticks(rotation=0)\n",
        "plt.show()"
      ],
      "metadata": {
        "colab": {
          "base_uri": "https://localhost:8080/",
          "height": 301
        },
        "id": "WnM6DR3xCg1O",
        "outputId": "6979411c-3c34-488a-8518-34d8af7bc25b"
      },
      "id": "WnM6DR3xCg1O",
      "execution_count": 51,
      "outputs": [
        {
          "output_type": "display_data",
          "data": {
            "text/plain": [
              "<Figure size 504x288 with 1 Axes>"
            ],
            "image/png": "[encoded data removed]"
          },
          "metadata": {
            "needs_background": "light"
          }
        }
      ]
    },
    {
      "cell_type": "markdown",
      "source": [
        "From the above Graph,\n",
        "*   Houses with parking facilities has higher sale price\n",
        "*We will go for One hot encoding for PARK_FACIL column\n",
        "\n"
      ],
      "metadata": {
        "id": "yD_KrbpuGNka"
      },
      "id": "yD_KrbpuGNka"
    },
    {
      "cell_type": "markdown",
      "source": [
        "Plotting the relation between Build type and Sales Price"
      ],
      "metadata": {
        "id": "QS0annQXCAAw"
      },
      "id": "QS0annQXCAAw"
    },
    {
      "cell_type": "code",
      "source": [
        "result=df.groupby([\"BUILDTYPE\"])['SALES_PRICE'].mean().reset_index().sort_values(\"SALES_PRICE\")"
      ],
      "metadata": {
        "id": "J1bQvYGRCCm0"
      },
      "id": "J1bQvYGRCCm0",
      "execution_count": 52,
      "outputs": []
    },
    {
      "cell_type": "code",
      "source": [
        "plt.figure(figsize=(7,4))\n",
        "plt.title(\"Building Type vs Sales price\", fontsize=16, va='bottom')\n",
        "br1=sns.barplot(x='BUILDTYPE',y=\"SALES_PRICE\", data=result)\n",
        "plt.xticks(rotation=0)\n",
        "plt.show()"
      ],
      "metadata": {
        "colab": {
          "base_uri": "https://localhost:8080/",
          "height": 300
        },
        "id": "tNCSyKIGC7pA",
        "outputId": "fce59e01-72f5-4b56-dd1b-324b39a908f9"
      },
      "id": "tNCSyKIGC7pA",
      "execution_count": 53,
      "outputs": [
        {
          "output_type": "display_data",
          "data": {
            "text/plain": [
              "<Figure size 504x288 with 1 Axes>"
            ],
            "image/png": "[encoded data removed]"
          },
          "metadata": {
            "needs_background": "light"
          }
        }
      ]
    },
    {
      "cell_type": "markdown",
      "source": [
        "From the above Graph,\n",
        "*  Commercial type houses has higher sale price  \n",
        "*  Normal house type has lower sale price\n",
        "*We will go for label encoding for BUILDTYPE column\n",
        "\n"
      ],
      "metadata": {
        "id": "EsCTPBRBGcSI"
      },
      "id": "EsCTPBRBGcSI"
    },
    {
      "cell_type": "markdown",
      "source": [
        "Plotting the relation between Utility Available and Sales Price"
      ],
      "metadata": {
        "id": "3t-ogyNtCDWZ"
      },
      "id": "3t-ogyNtCDWZ"
    },
    {
      "cell_type": "code",
      "source": [
        "result=df.groupby([\"UTILITY_AVAIL\"])['SALES_PRICE'].mean().reset_index().sort_values(\"SALES_PRICE\")"
      ],
      "metadata": {
        "id": "_2WVJq8CEqhH"
      },
      "id": "_2WVJq8CEqhH",
      "execution_count": 54,
      "outputs": []
    },
    {
      "cell_type": "code",
      "source": [
        "plt.figure(figsize=(7,4))\n",
        "plt.title(\"Utility Available vs Sales price\", fontsize=16, va='bottom')\n",
        "br1=sns.barplot(x='UTILITY_AVAIL',y=\"SALES_PRICE\", data=result)\n",
        "plt.xticks(rotation=0)\n",
        "plt.show()"
      ],
      "metadata": {
        "colab": {
          "base_uri": "https://localhost:8080/",
          "height": 301
        },
        "id": "X3ir5_0jEqPY",
        "outputId": "bf55c98b-dcc0-4cca-bc97-ad7334bccac6"
      },
      "id": "X3ir5_0jEqPY",
      "execution_count": 55,
      "outputs": [
        {
          "output_type": "display_data",
          "data": {
            "text/plain": [
              "<Figure size 504x288 with 1 Axes>"
            ],
            "image/png": "[encoded data removed]"
          },
          "metadata": {
            "needs_background": "light"
          }
        }
      ]
    },
    {
      "cell_type": "markdown",
      "source": [
        "From the above Graph,\n",
        "\n",
        "*   Houses that has AllPub access has a higher sale price.\n",
        "*We will go for label encoding for UTILITY_AVAIL column\n",
        "\n",
        "\n"
      ],
      "metadata": {
        "id": "nkvKfwVvG1SW"
      },
      "id": "nkvKfwVvG1SW"
    },
    {
      "cell_type": "markdown",
      "source": [
        "Plotting the relation between Type of Street and Sales Price"
      ],
      "metadata": {
        "id": "2M7ACWA4CEfX"
      },
      "id": "2M7ACWA4CEfX"
    },
    {
      "cell_type": "code",
      "source": [
        "result=df.groupby([\"STREET\"])['SALES_PRICE'].mean().reset_index().sort_values(\"SALES_PRICE\")"
      ],
      "metadata": {
        "id": "tbrD_90UErip"
      },
      "id": "tbrD_90UErip",
      "execution_count": 56,
      "outputs": []
    },
    {
      "cell_type": "code",
      "source": [
        "plt.figure(figsize=(7,4))\n",
        "plt.title(\"Street type vs Sales price\", fontsize=16, va='bottom')\n",
        "br1=sns.barplot(x='STREET',y=\"SALES_PRICE\", data=result)\n",
        "plt.xticks(rotation=0)\n",
        "plt.show()"
      ],
      "metadata": {
        "colab": {
          "base_uri": "https://localhost:8080/",
          "height": 300
        },
        "id": "6K-jAROTErW7",
        "outputId": "45ceccea-2620-4a98-dc33-9fb93be11fde"
      },
      "id": "6K-jAROTErW7",
      "execution_count": 57,
      "outputs": [
        {
          "output_type": "display_data",
          "data": {
            "text/plain": [
              "<Figure size 504x288 with 1 Axes>"
            ],
            "image/png": "[encoded data removed]"
          },
          "metadata": {
            "needs_background": "light"
          }
        }
      ]
    },
    {
      "cell_type": "markdown",
      "source": [
        "From the above Graph,\n",
        "*   Gravelled streets has a higher sale price\n",
        "*   No Access streets has lower sale price\n",
        "*We will go for label encoding for STREET column\n",
        "\n"
      ],
      "metadata": {
        "id": "qPUe8nJtHjJ5"
      },
      "id": "qPUe8nJtHjJ5"
    },
    {
      "cell_type": "markdown",
      "source": [
        "Plotting the relation between Zone and Sales Price"
      ],
      "metadata": {
        "id": "CltORgp4H8m3"
      },
      "id": "CltORgp4H8m3"
    },
    {
      "cell_type": "code",
      "source": [
        "result=df.groupby([\"MZZONE\"])['SALES_PRICE'].mean().reset_index().sort_values(\"SALES_PRICE\")"
      ],
      "metadata": {
        "id": "ra6EonR-EsOW"
      },
      "id": "ra6EonR-EsOW",
      "execution_count": 58,
      "outputs": []
    },
    {
      "cell_type": "code",
      "source": [
        "plt.figure(figsize=(7,4))\n",
        "plt.title(\"Zone vs Sales price\", fontsize=16, va='bottom')\n",
        "br1=sns.barplot(x='MZZONE',y=\"SALES_PRICE\", data=result)\n",
        "plt.xticks(rotation=0)\n",
        "plt.show()"
      ],
      "metadata": {
        "colab": {
          "base_uri": "https://localhost:8080/",
          "height": 300
        },
        "id": "6Yqbymz_EsE2",
        "outputId": "86511725-f5f0-48d1-8f0b-4bea4c4d7b2e"
      },
      "id": "6Yqbymz_EsE2",
      "execution_count": 59,
      "outputs": [
        {
          "output_type": "display_data",
          "data": {
            "text/plain": [
              "<Figure size 504x288 with 1 Axes>"
            ],
            "image/png": "[encoded data removed]"
          },
          "metadata": {
            "needs_background": "light"
          }
        }
      ]
    },
    {
      "cell_type": "markdown",
      "source": [
        "From the above Graph,\n",
        "*   Zone RM has high sales price\n",
        "*   Zone A has the lowest sales price\n",
        "*We will go for label encoding for MZZONE column\n",
        "\n",
        "\n",
        "\n"
      ],
      "metadata": {
        "id": "pD8FZqV2IDio"
      },
      "id": "pD8FZqV2IDio"
    },
    {
      "cell_type": "markdown",
      "source": [
        "#Plotting the distribution of Numerical data's"
      ],
      "metadata": {
        "id": "oNWetGEJMC38"
      },
      "id": "oNWetGEJMC38"
    },
    {
      "cell_type": "code",
      "source": [
        "numdata = df.dtypes[df.dtypes != \"object\"].index\n",
        "print(\"Number of Numerical features: \", len(numdata))"
      ],
      "metadata": {
        "id": "hPe6X53kPFOU",
        "colab": {
          "base_uri": "https://localhost:8080/"
        },
        "outputId": "82246706-e5fd-4d87-fe92-c5aad7cced04"
      },
      "id": "hPe6X53kPFOU",
      "execution_count": 60,
      "outputs": [
        {
          "output_type": "stream",
          "name": "stdout",
          "text": [
            "Number of Numerical features:  11\n"
          ]
        }
      ]
    },
    {
      "cell_type": "code",
      "source": [
        "numdata"
      ],
      "metadata": {
        "id": "GKb2Wzn9PE9Y",
        "colab": {
          "base_uri": "https://localhost:8080/"
        },
        "outputId": "9ea98e42-856b-4c2a-b650-52700ea7782f"
      },
      "id": "GKb2Wzn9PE9Y",
      "execution_count": 61,
      "outputs": [
        {
          "output_type": "execute_result",
          "data": {
            "text/plain": [
              "Index(['INT_SQFT', 'DIST_MAINROAD', 'N_BEDROOM', 'N_BATHROOM', 'N_ROOM',\n",
              "       'QS_ROOMS', 'QS_BATHROOM', 'QS_BEDROOM', 'QS_OVERALL', 'SALES_PRICE',\n",
              "       'BUILDING_AGE'],\n",
              "      dtype='object')"
            ]
          },
          "metadata": {},
          "execution_count": 61
        }
      ]
    },
    {
      "cell_type": "code",
      "source": [
        "plt.figure(figsize=(7,4))\n",
        "df[numdata].hist(bins=20, figsize=(20, 10))\n",
        "plt.xticks(rotation=25)\n",
        "plt.show()"
      ],
      "metadata": {
        "colab": {
          "base_uri": "https://localhost:8080/",
          "height": 637
        },
        "id": "fNDSLCPkMRjQ",
        "outputId": "396ef06d-3e93-4bc8-adb4-1d8b576ec1ae"
      },
      "id": "fNDSLCPkMRjQ",
      "execution_count": 62,
      "outputs": [
        {
          "output_type": "display_data",
          "data": {
            "text/plain": [
              "<Figure size 504x288 with 0 Axes>"
            ]
          },
          "metadata": {}
        },
        {
          "output_type": "display_data",
          "data": {
            "text/plain": [
              "<Figure size 1440x720 with 12 Axes>"
            ],
            "image/png": "[encoded data removed]"
          },
          "metadata": {
            "needs_background": "light"
          }
        }
      ]
    },
    {
      "cell_type": "markdown",
      "source": [
        "The above Histograms show the distribution of each Numerical Feature"
      ],
      "metadata": {
        "id": "t1U1OrqfPMrA"
      },
      "id": "t1U1OrqfPMrA"
    },
    {
      "cell_type": "markdown",
      "source": [
        "#Analysing the relation between Numerical Features and the Target Feature"
      ],
      "metadata": {
        "id": "FMqW9VkkPgg0"
      },
      "id": "FMqW9VkkPgg0"
    },
    {
      "cell_type": "code",
      "source": [
        "for i in df[numdata]:\n",
        "  sns.lineplot(x= df[i], y= df['SALES_PRICE'],data = df)\n",
        "  plt.show()"
      ],
      "metadata": {
        "colab": {
          "base_uri": "https://localhost:8080/",
          "height": 1000
        },
        "id": "rwzA1yFDJZ7-",
        "outputId": "5185dd8e-c31d-41fa-a571-4e59310b0201"
      },
      "id": "rwzA1yFDJZ7-",
      "execution_count": 63,
      "outputs": [
        {
          "output_type": "display_data",
          "data": {
            "text/plain": [
              "<Figure size 432x288 with 1 Axes>"
            ],
            "image/png": "[encoded data removed]"
          },
          "metadata": {
            "needs_background": "light"
          }
        },
        {
          "output_type": "display_data",
          "data": {
            "text/plain": [
              "<Figure size 432x288 with 1 Axes>"
            ],
            "image/png": "[encoded data removed]"
          },
          "metadata": {
            "needs_background": "light"
          }
        },
        {
          "output_type": "display_data",
          "data": {
            "text/plain": [
              "<Figure size 432x288 with 1 Axes>"
            ],
            "image/png": "[encoded data removed]"
          },
          "metadata": {
            "needs_background": "light"
          }
        },
        {
          "output_type": "display_data",
          "data": {
            "text/plain": [
              "<Figure size 432x288 with 1 Axes>"
            ],
            "image/png": "[encoded data removed]"
          },
          "metadata": {
            "needs_background": "light"
          }
        },
        {
          "output_type": "display_data",
          "data": {
            "text/plain": [
              "<Figure size 432x288 with 1 Axes>"
            ],
            "image/png": "[encoded data removed]"
          },
          "metadata": {
            "needs_background": "light"
          }
        },
        {
          "output_type": "display_data",
          "data": {
            "text/plain": [
              "<Figure size 432x288 with 1 Axes>"
            ],
            "image/png": "[encoded data removed]"
          },
          "metadata": {
            "needs_background": "light"
          }
        },
        {
          "output_type": "display_data",
          "data": {
            "text/plain": [
              "<Figure size 432x288 with 1 Axes>"
            ],
            "image/png": "[encoded data removed]"
          },
          "metadata": {
            "needs_background": "light"
          }
        },
        {
          "output_type": "display_data",
          "data": {
            "text/plain": [
              "<Figure size 432x288 with 1 Axes>"
            ],
            "image/png": "[encoded data removed]"
          },
          "metadata": {
            "needs_background": "light"
          }
        },
        {
          "output_type": "display_data",
          "data": {
            "text/plain": [
              "<Figure size 432x288 with 1 Axes>"
            ],
            "image/png": "[encoded data removed]"
          },
          "metadata": {
            "needs_background": "light"
          }
        },
        {
          "output_type": "display_data",
          "data": {
            "text/plain": [
              "<Figure size 432x288 with 1 Axes>"
            ],
            "image/png": "[encoded data removed]"
          },
          "metadata": {
            "needs_background": "light"
          }
        },
        {
          "output_type": "display_data",
          "data": {
            "text/plain": [
              "<Figure size 432x288 with 1 Axes>"
            ],
            "image/png": "[encoded data removed]"
          },
          "metadata": {
            "needs_background": "light"
          }
        }
      ]
    },
    {
      "cell_type": "markdown",
      "source": [
        "From the above Graph,\n",
        "*   There is a linear relationship between Interior SQFT and No of Bathrooms,Bedroom  and total rooms\n",
        "*   Other features doesnot show any linear relationship"
      ],
      "metadata": {
        "id": "G8tlKQrsP14k"
      },
      "id": "G8tlKQrsP14k"
    },
    {
      "cell_type": "markdown",
      "source": [
        "#Applying One hot Encoding to categorical Variables"
      ],
      "metadata": {
        "id": "0p46lUHGTiyY"
      },
      "id": "0p46lUHGTiyY"
    },
    {
      "cell_type": "code",
      "source": [
        "df1=df\n",
        "catdata1 = df.dtypes[df.dtypes == \"object\"].index\n",
        "print(\"Number of Categorical features: \", len(catdata1))"
      ],
      "metadata": {
        "colab": {
          "base_uri": "https://localhost:8080/"
        },
        "id": "-jDjocidVFYD",
        "outputId": "651c43e9-0cd5-40a1-b095-036ca1d72ff9"
      },
      "id": "-jDjocidVFYD",
      "execution_count": 64,
      "outputs": [
        {
          "output_type": "stream",
          "name": "stdout",
          "text": [
            "Number of Categorical features:  7\n"
          ]
        }
      ]
    },
    {
      "cell_type": "code",
      "source": [
        "df1 = pd.get_dummies(df,drop_first=True)\n",
        "df1.head()"
      ],
      "metadata": {
        "id": "jETQNrmCVI0a",
        "colab": {
          "base_uri": "https://localhost:8080/",
          "height": 317
        },
        "outputId": "721db9d5-ee40-4e53-af80-c7c5c6d14ec2"
      },
      "id": "jETQNrmCVI0a",
      "execution_count": 65,
      "outputs": [
        {
          "output_type": "execute_result",
          "data": {
            "text/plain": [
              "   INT_SQFT  DIST_MAINROAD  N_BEDROOM  N_BATHROOM  N_ROOM  QS_ROOMS  \\\n",
              "0      1004            131          1           1       3       4.0   \n",
              "1      1986             26          2           1       5       4.9   \n",
              "2       909             70          1           1       3       4.1   \n",
              "3      1855             14          3           2       5       4.7   \n",
              "4      1226             84          1           1       3       3.0   \n",
              "\n",
              "   QS_BATHROOM  QS_BEDROOM  QS_OVERALL  SALES_PRICE  ...  UTILITY_AVAIL_ELO  \\\n",
              "0          3.9         4.9       4.330      7600000  ...                  0   \n",
              "1          4.2         2.5       3.765     21717770  ...                  0   \n",
              "2          3.8         2.2       3.090     13159200  ...                  1   \n",
              "3          3.9         3.6       4.010      9630290  ...                  0   \n",
              "4          2.5         4.1       3.290      7406250  ...                  0   \n",
              "\n",
              "   UTILITY_AVAIL_NoSeWa  UTILITY_AVAIL_NoSewr   STREET_No Access  \\\n",
              "0                     0                      0                 0   \n",
              "1                     0                      0                 0   \n",
              "2                     0                      0                 0   \n",
              "3                     0                      1                 0   \n",
              "4                     0                      0                 0   \n",
              "\n",
              "   STREET_Paved  MZZONE_C  MZZONE_I  MZZONE_RH  MZZONE_RL  MZZONE_RM  \n",
              "0             1         0         0          0          0          0  \n",
              "1             0         0         0          1          0          0  \n",
              "2             0         0         0          0          1          0  \n",
              "3             1         0         1          0          0          0  \n",
              "4             0         1         0          0          0          0  \n",
              "\n",
              "[5 rows x 34 columns]"
            ],
            "text/html": [
              "\n",
              "  <div id=\"df-22c7a428-f3c0-43be-a1c9-d04c69edeec6\">\n",
              "    <div class=\"colab-df-container\">\n",
              "      <div>\n",
              "<style scoped>\n",
              "    .dataframe tbody tr th:only-of-type {\n",
              "        vertical-align: middle;\n",
              "    }\n",
              "\n",
              "    .dataframe tbody tr th {\n",
              "        vertical-align: top;\n",
              "    }\n",
              "\n",
              "    .dataframe thead th {\n",
              "        text-align: right;\n",
              "    }\n",
              "</style>\n",
              "<table border=\"1\" class=\"dataframe\">\n",
              "  <thead>\n",
              "    <tr style=\"text-align: right;\">\n",
              "      <th></th>\n",
              "      <th>INT_SQFT</th>\n",
              "      <th>DIST_MAINROAD</th>\n",
              "      <th>N_BEDROOM</th>\n",
              "      <th>N_BATHROOM</th>\n",
              "      <th>N_ROOM</th>\n",
              "      <th>QS_ROOMS</th>\n",
              "      <th>QS_BATHROOM</th>\n",
              "      <th>QS_BEDROOM</th>\n",
              "      <th>QS_OVERALL</th>\n",
              "      <th>SALES_PRICE</th>\n",
              "      <th>...</th>\n",
              "      <th>UTILITY_AVAIL_ELO</th>\n",
              "      <th>UTILITY_AVAIL_NoSeWa</th>\n",
              "      <th>UTILITY_AVAIL_NoSewr</th>\n",
              "      <th>STREET_No Access</th>\n",
              "      <th>STREET_Paved</th>\n",
              "      <th>MZZONE_C</th>\n",
              "      <th>MZZONE_I</th>\n",
              "      <th>MZZONE_RH</th>\n",
              "      <th>MZZONE_RL</th>\n",
              "      <th>MZZONE_RM</th>\n",
              "    </tr>\n",
              "  </thead>\n",
              "  <tbody>\n",
              "    <tr>\n",
              "      <th>0</th>\n",
              "      <td>1004</td>\n",
              "      <td>131</td>\n",
              "      <td>1</td>\n",
              "      <td>1</td>\n",
              "      <td>3</td>\n",
              "      <td>4.0</td>\n",
              "      <td>3.9</td>\n",
              "      <td>4.9</td>\n",
              "      <td>4.330</td>\n",
              "      <td>7600000</td>\n",
              "      <td>...</td>\n",
              "      <td>0</td>\n",
              "      <td>0</td>\n",
              "      <td>0</td>\n",
              "      <td>0</td>\n",
              "      <td>1</td>\n",
              "      <td>0</td>\n",
              "      <td>0</td>\n",
              "      <td>0</td>\n",
              "      <td>0</td>\n",
              "      <td>0</td>\n",
              "    </tr>\n",
              "    <tr>\n",
              "      <th>1</th>\n",
              "      <td>1986</td>\n",
              "      <td>26</td>\n",
              "      <td>2</td>\n",
              "      <td>1</td>\n",
              "      <td>5</td>\n",
              "      <td>4.9</td>\n",
              "      <td>4.2</td>\n",
              "      <td>2.5</td>\n",
              "      <td>3.765</td>\n",
              "      <td>21717770</td>\n",
              "      <td>...</td>\n",
              "      <td>0</td>\n",
              "      <td>0</td>\n",
              "      <td>0</td>\n",
              "      <td>0</td>\n",
              "      <td>0</td>\n",
              "      <td>0</td>\n",
              "      <td>0</td>\n",
              "      <td>1</td>\n",
              "      <td>0</td>\n",
              "      <td>0</td>\n",
              "    </tr>\n",
              "    <tr>\n",
              "      <th>2</th>\n",
              "      <td>909</td>\n",
              "      <td>70</td>\n",
              "      <td>1</td>\n",
              "      <td>1</td>\n",
              "      <td>3</td>\n",
              "      <td>4.1</td>\n",
              "      <td>3.8</td>\n",
              "      <td>2.2</td>\n",
              "      <td>3.090</td>\n",
              "      <td>13159200</td>\n",
              "      <td>...</td>\n",
              "      <td>1</td>\n",
              "      <td>0</td>\n",
              "      <td>0</td>\n",
              "      <td>0</td>\n",
              "      <td>0</td>\n",
              "      <td>0</td>\n",
              "      <td>0</td>\n",
              "      <td>0</td>\n",
              "      <td>1</td>\n",
              "      <td>0</td>\n",
              "    </tr>\n",
              "    <tr>\n",
              "      <th>3</th>\n",
              "      <td>1855</td>\n",
              "      <td>14</td>\n",
              "      <td>3</td>\n",
              "      <td>2</td>\n",
              "      <td>5</td>\n",
              "      <td>4.7</td>\n",
              "      <td>3.9</td>\n",
              "      <td>3.6</td>\n",
              "      <td>4.010</td>\n",
              "      <td>9630290</td>\n",
              "      <td>...</td>\n",
              "      <td>0</td>\n",
              "      <td>0</td>\n",
              "      <td>1</td>\n",
              "      <td>0</td>\n",
              "      <td>1</td>\n",
              "      <td>0</td>\n",
              "      <td>1</td>\n",
              "      <td>0</td>\n",
              "      <td>0</td>\n",
              "      <td>0</td>\n",
              "    </tr>\n",
              "    <tr>\n",
              "      <th>4</th>\n",
              "      <td>1226</td>\n",
              "      <td>84</td>\n",
              "      <td>1</td>\n",
              "      <td>1</td>\n",
              "      <td>3</td>\n",
              "      <td>3.0</td>\n",
              "      <td>2.5</td>\n",
              "      <td>4.1</td>\n",
              "      <td>3.290</td>\n",
              "      <td>7406250</td>\n",
              "      <td>...</td>\n",
              "      <td>0</td>\n",
              "      <td>0</td>\n",
              "      <td>0</td>\n",
              "      <td>0</td>\n",
              "      <td>0</td>\n",
              "      <td>1</td>\n",
              "      <td>0</td>\n",
              "      <td>0</td>\n",
              "      <td>0</td>\n",
              "      <td>0</td>\n",
              "    </tr>\n",
              "  </tbody>\n",
              "</table>\n",
              "<p>5 rows × 34 columns</p>\n",
              "</div>\n",
              "      <button class=\"colab-df-convert\" onclick=\"convertToInteractive('df-22c7a428-f3c0-43be-a1c9-d04c69edeec6')\"\n",
              "              title=\"Convert this dataframe to an interactive table.\"\n",
              "              style=\"display:none;\">\n",
              "        \n",
              "  <svg xmlns=\"http://www.w3.org/2000/svg\" height=\"24px\"viewBox=\"0 0 24 24\"\n",
              "       width=\"24px\">\n",
              "    <path d=\"M0 0h24v24H0V0z\" fill=\"none\"/>\n",
              "    <path d=\"M18.56 5.44l.94 2.06.94-2.06 2.06-.94-2.06-.94-.94-2.06-.94 2.06-2.06.94zm-11 1L8.5 8.5l.94-2.06 2.06-.94-2.06-.94L8.5 2.5l-.94 2.06-2.06.94zm10 10l.94 2.06.94-2.06 2.06-.94-2.06-.94-.94-2.06-.94 2.06-2.06.94z\"/><path d=\"M17.41 7.96l-1.37-1.37c-.4-.4-.92-.59-1.43-.59-.52 0-1.04.2-1.43.59L10.3 9.45l-7.72 7.72c-.78.78-.78 2.05 0 2.83L4 21.41c.39.39.9.59 1.41.59.51 0 1.02-.2 1.41-.59l7.78-7.78 2.81-2.81c.8-.78.8-2.07 0-2.86zM5.41 20L4 18.59l7.72-7.72 1.47 1.35L5.41 20z\"/>\n",
              "  </svg>\n",
              "      </button>\n",
              "      \n",
              "  <style>\n",
              "    .colab-df-container {\n",
              "      display:flex;\n",
              "      flex-wrap:wrap;\n",
              "      gap: 12px;\n",
              "    }\n",
              "\n",
              "    .colab-df-convert {\n",
              "      background-color: #E8F0FE;\n",
              "      border: none;\n",
              "      border-radius: 50%;\n",
              "      cursor: pointer;\n",
              "      display: none;\n",
              "      fill: #1967D2;\n",
              "      height: 32px;\n",
              "      padding: 0 0 0 0;\n",
              "      width: 32px;\n",
              "    }\n",
              "\n",
              "    .colab-df-convert:hover {\n",
              "      background-color: #E2EBFA;\n",
              "      box-shadow: 0px 1px 2px rgba(60, 64, 67, 0.3), 0px 1px 3px 1px rgba(60, 64, 67, 0.15);\n",
              "      fill: #174EA6;\n",
              "    }\n",
              "\n",
              "    [theme=dark] .colab-df-convert {\n",
              "      background-color: #3B4455;\n",
              "      fill: #D2E3FC;\n",
              "    }\n",
              "\n",
              "    [theme=dark] .colab-df-convert:hover {\n",
              "      background-color: #434B5C;\n",
              "      box-shadow: 0px 1px 3px 1px rgba(0, 0, 0, 0.15);\n",
              "      filter: drop-shadow(0px 1px 2px rgba(0, 0, 0, 0.3));\n",
              "      fill: #FFFFFF;\n",
              "    }\n",
              "  </style>\n",
              "\n",
              "      <script>\n",
              "        const buttonEl =\n",
              "          document.querySelector('#df-22c7a428-f3c0-43be-a1c9-d04c69edeec6 button.colab-df-convert');\n",
              "        buttonEl.style.display =\n",
              "          google.colab.kernel.accessAllowed ? 'block' : 'none';\n",
              "\n",
              "        async function convertToInteractive(key) {\n",
              "          const element = document.querySelector('#df-22c7a428-f3c0-43be-a1c9-d04c69edeec6');\n",
              "          const dataTable =\n",
              "            await google.colab.kernel.invokeFunction('convertToInteractive',\n",
              "                                                     [key], {});\n",
              "          if (!dataTable) return;\n",
              "\n",
              "          const docLinkHtml = 'Like what you see? Visit the ' +\n",
              "            '<a target=\"_blank\" href=https://colab.research.google.com/notebooks/data_table.ipynb>data table notebook</a>'\n",
              "            + ' to learn more about interactive tables.';\n",
              "          element.innerHTML = '';\n",
              "          dataTable['output_type'] = 'display_data';\n",
              "          await google.colab.output.renderOutput(dataTable, element);\n",
              "          const docLink = document.createElement('div');\n",
              "          docLink.innerHTML = docLinkHtml;\n",
              "          element.appendChild(docLink);\n",
              "        }\n",
              "      </script>\n",
              "    </div>\n",
              "  </div>\n",
              "  "
            ]
          },
          "metadata": {},
          "execution_count": 65
        }
      ]
    },
    {
      "cell_type": "code",
      "source": [
        "df1.corr()"
      ],
      "metadata": {
        "colab": {
          "base_uri": "https://localhost:8080/",
          "height": 1000
        },
        "id": "WaMACVq7Xqz7",
        "outputId": "d02b15c5-28ce-4454-af60-3678712e7b57"
      },
      "id": "WaMACVq7Xqz7",
      "execution_count": 66,
      "outputs": [
        {
          "output_type": "execute_result",
          "data": {
            "text/plain": [
              "                       INT_SQFT  DIST_MAINROAD  N_BEDROOM  N_BATHROOM  \\\n",
              "INT_SQFT               1.000000       0.002022   0.786263    0.515290   \n",
              "DIST_MAINROAD          0.002022       1.000000  -0.002723    0.001850   \n",
              "N_BEDROOM              0.786263      -0.002723   1.000000    0.755207   \n",
              "N_BATHROOM             0.515290       0.001850   0.755207    1.000000   \n",
              "N_ROOM                 0.951279       0.002301   0.840209    0.568541   \n",
              "QS_ROOMS               0.019850       0.002237   0.014948    0.013376   \n",
              "QS_BATHROOM           -0.008337      -0.029468  -0.007534   -0.012043   \n",
              "QS_BEDROOM             0.008865       0.001554   0.015752    0.013191   \n",
              "QS_OVERALL             0.013989      -0.017255   0.014245    0.007961   \n",
              "SALES_PRICE            0.612125       0.018783   0.330987    0.108834   \n",
              "BUILDING_AGE          -0.012922      -0.003176  -0.045635   -0.019844   \n",
              "AREA_Anna Nagar        0.286339       0.006508  -0.104874   -0.183745   \n",
              "AREA_Chrompet         -0.464682      -0.014367  -0.329743   -0.291976   \n",
              "AREA_KK Nagar          0.460293       0.007718   0.590863    0.377424   \n",
              "AREA_Karapakkam       -0.297143       0.012111  -0.199260    0.114119   \n",
              "AREA_T Nagar           0.226146       0.018237  -0.063908   -0.142524   \n",
              "AREA_Velachery         0.314239      -0.033195   0.367385    0.157303   \n",
              "SALE_COND_AdjLand     -0.004330      -0.008807  -0.004603   -0.002279   \n",
              "SALE_COND_Family      -0.009551       0.012948  -0.009080   -0.009488   \n",
              "SALE_COND_Normal Sale  0.014994      -0.001319   0.021297    0.018667   \n",
              "SALE_COND_Partial      0.000752       0.000621  -0.001631   -0.007181   \n",
              "PARK_FACIL_Yes         0.004618      -0.009448  -0.009357   -0.014033   \n",
              "BUILDTYPE_House       -0.006848      -0.019417   0.004914    0.018195   \n",
              "BUILDTYPE_Other       -0.001995      -0.002458  -0.004435   -0.012305   \n",
              "UTILITY_AVAIL_ELO     -0.089793       0.012707  -0.111240   -0.071477   \n",
              "UTILITY_AVAIL_NoSeWa   0.025290      -0.014840   0.031149    0.021273   \n",
              "UTILITY_AVAIL_NoSewr   0.030922       0.011974   0.038896    0.031606   \n",
              "STREET_No Access      -0.113160      -0.009223  -0.140196   -0.078364   \n",
              "STREET_Paved           0.060426       0.014090   0.069205    0.028509   \n",
              "MZZONE_C              -0.084035      -0.008996  -0.017259    0.052443   \n",
              "MZZONE_I              -0.078290       0.009730  -0.014333    0.060573   \n",
              "MZZONE_RH              0.033044       0.007454  -0.010636   -0.032484   \n",
              "MZZONE_RL              0.067795       0.008959   0.040104   -0.012477   \n",
              "MZZONE_RM              0.053017      -0.007888   0.013931   -0.023799   \n",
              "\n",
              "                         N_ROOM  QS_ROOMS  QS_BATHROOM  QS_BEDROOM  \\\n",
              "INT_SQFT               0.951279  0.019850    -0.008337    0.008865   \n",
              "DIST_MAINROAD          0.002301  0.002237    -0.029468    0.001554   \n",
              "N_BEDROOM              0.840209  0.014948    -0.007534    0.015752   \n",
              "N_BATHROOM             0.568541  0.013376    -0.012043    0.013191   \n",
              "N_ROOM                 1.000000  0.016524    -0.007545    0.015072   \n",
              "QS_ROOMS               0.016524  1.000000     0.008828    0.007789   \n",
              "QS_BATHROOM           -0.007545  0.008828     1.000000   -0.011745   \n",
              "QS_BEDROOM             0.015072  0.007789    -0.011745    1.000000   \n",
              "QS_OVERALL             0.015418  0.516147     0.549056    0.628168   \n",
              "SALES_PRICE            0.602760  0.021967    -0.011377    0.018804   \n",
              "BUILDING_AGE          -0.033607  0.020012     0.021485   -0.018402   \n",
              "AREA_Anna Nagar        0.245926  0.009160    -0.011833   -0.007735   \n",
              "AREA_Chrompet         -0.377565 -0.011027     0.009389   -0.013034   \n",
              "AREA_KK Nagar          0.444985  0.013845     0.010052    0.012491   \n",
              "AREA_Karapakkam       -0.333116 -0.011715    -0.010457    0.004660   \n",
              "AREA_T Nagar           0.204493  0.010422    -0.000426    0.014060   \n",
              "AREA_Velachery         0.269114  0.002817    -0.000912   -0.009001   \n",
              "SALE_COND_AdjLand     -0.006887 -0.000212     0.013288    0.004598   \n",
              "SALE_COND_Family      -0.012573  0.026149    -0.016166   -0.002102   \n",
              "SALE_COND_Normal Sale  0.015171 -0.007907    -0.017429   -0.003757   \n",
              "SALE_COND_Partial      0.005191 -0.003474     0.005475   -0.003018   \n",
              "PARK_FACIL_Yes        -0.000934 -0.008128    -0.011935   -0.001165   \n",
              "BUILDTYPE_House       -0.005288 -0.017000     0.002439   -0.003363   \n",
              "BUILDTYPE_Other       -0.003472  0.007182     0.007098    0.001363   \n",
              "UTILITY_AVAIL_ELO     -0.083528 -0.018183     0.015155   -0.021965   \n",
              "UTILITY_AVAIL_NoSeWa   0.021138  0.005090     0.002258    0.003134   \n",
              "UTILITY_AVAIL_NoSewr   0.033587  0.010696    -0.004176    0.015301   \n",
              "STREET_No Access      -0.105984 -0.011349    -0.011821   -0.016548   \n",
              "STREET_Paved           0.049886  0.017089     0.016293   -0.008378   \n",
              "MZZONE_C              -0.091341 -0.008152     0.008982   -0.012115   \n",
              "MZZONE_I              -0.087920  0.007917     0.010363   -0.018541   \n",
              "MZZONE_RH              0.026932  0.012162     0.003302   -0.003892   \n",
              "MZZONE_RL              0.084320 -0.012083    -0.025412    0.011552   \n",
              "MZZONE_RM              0.060642  0.003202     0.003103    0.001457   \n",
              "\n",
              "                       QS_OVERALL  SALES_PRICE  ...  UTILITY_AVAIL_ELO  \\\n",
              "INT_SQFT                 0.013989     0.612125  ...          -0.089793   \n",
              "DIST_MAINROAD           -0.017255     0.018783  ...           0.012707   \n",
              "N_BEDROOM                0.014245     0.330987  ...          -0.111240   \n",
              "N_BATHROOM               0.007961     0.108834  ...          -0.071477   \n",
              "N_ROOM                   0.015418     0.602760  ...          -0.083528   \n",
              "QS_ROOMS                 0.516147     0.021967  ...          -0.018183   \n",
              "QS_BATHROOM              0.549056    -0.011377  ...           0.015155   \n",
              "QS_BEDROOM               0.628168     0.018804  ...          -0.021965   \n",
              "QS_OVERALL               1.000000     0.020485  ...          -0.014539   \n",
              "SALES_PRICE              0.020485     1.000000  ...          -0.058934   \n",
              "BUILDING_AGE             0.012100    -0.119192  ...           0.047071   \n",
              "AREA_Anna Nagar         -0.004105     0.400390  ...           0.038552   \n",
              "AREA_Chrompet           -0.008068    -0.131183  ...           0.031832   \n",
              "AREA_KK Nagar            0.019730     0.193062  ...          -0.210802   \n",
              "AREA_Karapakkam         -0.010847    -0.460068  ...           0.024847   \n",
              "AREA_T Nagar             0.012622     0.343654  ...           0.013204   \n",
              "AREA_Velachery          -0.000996     0.016186  ...           0.046705   \n",
              "SALE_COND_AdjLand        0.009949     0.042032  ...          -0.003484   \n",
              "SALE_COND_Family        -0.000889    -0.020856  ...           0.005708   \n",
              "SALE_COND_Normal Sale   -0.013518     0.013178  ...           0.006293   \n",
              "SALE_COND_Partial        0.000937    -0.037140  ...          -0.008375   \n",
              "PARK_FACIL_Yes          -0.009601     0.146428  ...           0.026092   \n",
              "BUILDTYPE_House         -0.010053    -0.344982  ...           0.006319   \n",
              "BUILDTYPE_Other          0.007293    -0.201783  ...           0.015240   \n",
              "UTILITY_AVAIL_ELO       -0.014539    -0.058934  ...           1.000000   \n",
              "UTILITY_AVAIL_NoSeWa     0.009898    -0.000290  ...          -0.311941   \n",
              "UTILITY_AVAIL_NoSewr     0.007248     0.004818  ...          -0.307191   \n",
              "STREET_No Access        -0.021478    -0.149341  ...           0.060225   \n",
              "STREET_Paved             0.015434     0.032493  ...          -0.021161   \n",
              "MZZONE_C                -0.006012    -0.218441  ...           0.024706   \n",
              "MZZONE_I                -0.011881    -0.161581  ...           0.054549   \n",
              "MZZONE_RH                0.008581     0.022598  ...          -0.007918   \n",
              "MZZONE_RL               -0.012439     0.137466  ...          -0.033396   \n",
              "MZZONE_RM                0.004641     0.235134  ...          -0.011801   \n",
              "\n",
              "                       UTILITY_AVAIL_NoSeWa  UTILITY_AVAIL_NoSewr   \\\n",
              "INT_SQFT                           0.025290               0.030922   \n",
              "DIST_MAINROAD                     -0.014840               0.011974   \n",
              "N_BEDROOM                          0.031149               0.038896   \n",
              "N_BATHROOM                         0.021273               0.031606   \n",
              "N_ROOM                             0.021138               0.033587   \n",
              "QS_ROOMS                           0.005090               0.010696   \n",
              "QS_BATHROOM                        0.002258              -0.004176   \n",
              "QS_BEDROOM                         0.003134               0.015301   \n",
              "QS_OVERALL                         0.009898               0.007248   \n",
              "SALES_PRICE                       -0.000290               0.004818   \n",
              "BUILDING_AGE                      -0.011030              -0.011315   \n",
              "AREA_Anna Nagar                   -0.020749              -0.018180   \n",
              "AREA_Chrompet                     -0.016427               0.003100   \n",
              "AREA_KK Nagar                      0.075067               0.062546   \n",
              "AREA_Karapakkam                   -0.011768              -0.000362   \n",
              "AREA_T Nagar                       0.000576              -0.004561   \n",
              "AREA_Velachery                    -0.017771              -0.019025   \n",
              "SALE_COND_AdjLand                  0.012937              -0.004185   \n",
              "SALE_COND_Family                  -0.012241               0.005689   \n",
              "SALE_COND_Normal Sale             -0.004403               0.004738   \n",
              "SALE_COND_Partial                 -0.008080               0.013089   \n",
              "PARK_FACIL_Yes                     0.011466              -0.019863   \n",
              "BUILDTYPE_House                   -0.019658               0.023176   \n",
              "BUILDTYPE_Other                    0.016454              -0.014390   \n",
              "UTILITY_AVAIL_ELO                 -0.311941              -0.307191   \n",
              "UTILITY_AVAIL_NoSeWa               1.000000              -0.351758   \n",
              "UTILITY_AVAIL_NoSewr              -0.351758               1.000000   \n",
              "STREET_No Access                  -0.014065              -0.039926   \n",
              "STREET_Paved                      -0.000610               0.030991   \n",
              "MZZONE_C                          -0.009270               0.004211   \n",
              "MZZONE_I                          -0.019755              -0.013623   \n",
              "MZZONE_RH                         -0.002581               0.000912   \n",
              "MZZONE_RL                          0.013812               0.006573   \n",
              "MZZONE_RM                          0.005704               0.008501   \n",
              "\n",
              "                       STREET_No Access  STREET_Paved  MZZONE_C  MZZONE_I  \\\n",
              "INT_SQFT                      -0.113160      0.060426 -0.084035 -0.078290   \n",
              "DIST_MAINROAD                 -0.009223      0.014090 -0.008996  0.009730   \n",
              "N_BEDROOM                     -0.140196      0.069205 -0.017259 -0.014333   \n",
              "N_BATHROOM                    -0.078364      0.028509  0.052443  0.060573   \n",
              "N_ROOM                        -0.105984      0.049886 -0.091341 -0.087920   \n",
              "QS_ROOMS                      -0.011349      0.017089 -0.008152  0.007917   \n",
              "QS_BATHROOM                   -0.011821      0.016293  0.008982  0.010363   \n",
              "QS_BEDROOM                    -0.016548     -0.008378 -0.012115 -0.018541   \n",
              "QS_OVERALL                    -0.021478      0.015434 -0.006012 -0.011881   \n",
              "SALES_PRICE                   -0.149341      0.032493 -0.218441 -0.161581   \n",
              "BUILDING_AGE                   0.043845     -0.016607  0.061865  0.075173   \n",
              "AREA_Anna Nagar                0.047137     -0.036454 -0.102243 -0.099702   \n",
              "AREA_Chrompet                  0.051259     -0.034832 -0.162467 -0.158430   \n",
              "AREA_KK Nagar                 -0.254194      0.132603 -0.116955 -0.114049   \n",
              "AREA_Karapakkam                0.062909     -0.029135  0.176819  0.188559   \n",
              "AREA_T Nagar                   0.022380     -0.002816 -0.079306 -0.077335   \n",
              "AREA_Velachery                 0.028649     -0.007572  0.137548  0.128743   \n",
              "SALE_COND_AdjLand             -0.001771     -0.009197  0.000877 -0.003039   \n",
              "SALE_COND_Family               0.014060      0.001767  0.000601  0.019445   \n",
              "SALE_COND_Normal Sale          0.009560      0.021338 -0.019860 -0.008185   \n",
              "SALE_COND_Partial             -0.002005     -0.010546  0.005425 -0.017198   \n",
              "PARK_FACIL_Yes                -0.003570      0.008339 -0.002648 -0.009575   \n",
              "BUILDTYPE_House                0.001693     -0.026642 -0.012287 -0.010746   \n",
              "BUILDTYPE_Other               -0.002512      0.006137  0.014876 -0.004024   \n",
              "UTILITY_AVAIL_ELO              0.060225     -0.021161  0.024706  0.054549   \n",
              "UTILITY_AVAIL_NoSeWa          -0.014065     -0.000610 -0.009270 -0.019755   \n",
              "UTILITY_AVAIL_NoSewr          -0.039926      0.030991  0.004211 -0.013623   \n",
              "STREET_No Access               1.000000     -0.473871  0.040820  0.015564   \n",
              "STREET_Paved                  -0.473871      1.000000 -0.026283 -0.014487   \n",
              "MZZONE_C                       0.040820     -0.026283  1.000000 -0.081771   \n",
              "MZZONE_I                       0.015564     -0.014487 -0.081771  1.000000   \n",
              "MZZONE_RH                     -0.022833      0.022670 -0.169993 -0.165769   \n",
              "MZZONE_RL                     -0.012187      0.019845 -0.172252 -0.167972   \n",
              "MZZONE_RM                     -0.017546     -0.008981 -0.169680 -0.165464   \n",
              "\n",
              "                       MZZONE_RH  MZZONE_RL  MZZONE_RM  \n",
              "INT_SQFT                0.033044   0.067795   0.053017  \n",
              "DIST_MAINROAD           0.007454   0.008959  -0.007888  \n",
              "N_BEDROOM              -0.010636   0.040104   0.013931  \n",
              "N_BATHROOM             -0.032484  -0.012477  -0.023799  \n",
              "N_ROOM                  0.026932   0.084320   0.060642  \n",
              "QS_ROOMS                0.012162  -0.012083   0.003202  \n",
              "QS_BATHROOM             0.003302  -0.025412   0.003103  \n",
              "QS_BEDROOM             -0.003892   0.011552   0.001457  \n",
              "QS_OVERALL              0.008581  -0.012439   0.004641  \n",
              "SALES_PRICE             0.022598   0.137466   0.235134  \n",
              "BUILDING_AGE           -0.028461  -0.052889  -0.042005  \n",
              "AREA_Anna Nagar         0.058540   0.061237   0.063271  \n",
              "AREA_Chrompet           0.092709   0.100659   0.097476  \n",
              "AREA_KK Nagar           0.065391   0.069541   0.074460  \n",
              "AREA_Karapakkam        -0.096578  -0.117026  -0.114705  \n",
              "AREA_T Nagar            0.026404   0.054497   0.061047  \n",
              "AREA_Velachery         -0.075133  -0.084837  -0.086711  \n",
              "SALE_COND_AdjLand       0.012182  -0.008044  -0.003047  \n",
              "SALE_COND_Family       -0.003709  -0.013423   0.004380  \n",
              "SALE_COND_Normal Sale  -0.011038   0.023273   0.006684  \n",
              "SALE_COND_Partial       0.003798   0.008358   0.000593  \n",
              "PARK_FACIL_Yes          0.000432   0.008648  -0.009550  \n",
              "BUILDTYPE_House        -0.003653   0.014990  -0.003168  \n",
              "BUILDTYPE_Other        -0.005285  -0.005817  -0.004162  \n",
              "UTILITY_AVAIL_ELO      -0.007918  -0.033396  -0.011801  \n",
              "UTILITY_AVAIL_NoSeWa   -0.002581   0.013812   0.005704  \n",
              "UTILITY_AVAIL_NoSewr    0.000912   0.006573   0.008501  \n",
              "STREET_No Access       -0.022833  -0.012187  -0.017546  \n",
              "STREET_Paved            0.022670   0.019845  -0.008981  \n",
              "MZZONE_C               -0.169993  -0.172252  -0.169680  \n",
              "MZZONE_I               -0.165769  -0.167972  -0.165464  \n",
              "MZZONE_RH               1.000000  -0.349198  -0.343983  \n",
              "MZZONE_RL              -0.349198   1.000000  -0.348553  \n",
              "MZZONE_RM              -0.343983  -0.348553   1.000000  \n",
              "\n",
              "[34 rows x 34 columns]"
            ],
            "text/html": [
              "\n",
              "  <div id=\"df-35c35867-7f0a-4d84-99f2-f56f0c3ca0c1\">\n",
              "    <div class=\"colab-df-container\">\n",
              "      <div>\n",
              "<style scoped>\n",
              "    .dataframe tbody tr th:only-of-type {\n",
              "        vertical-align: middle;\n",
              "    }\n",
              "\n",
              "    .dataframe tbody tr th {\n",
              "        vertical-align: top;\n",
              "    }\n",
              "\n",
              "    .dataframe thead th {\n",
              "        text-align: right;\n",
              "    }\n",
              "</style>\n",
              "<table border=\"1\" class=\"dataframe\">\n",
              "  <thead>\n",
              "    <tr style=\"text-align: right;\">\n",
              "      <th></th>\n",
              "      <th>INT_SQFT</th>\n",
              "      <th>DIST_MAINROAD</th>\n",
              "      <th>N_BEDROOM</th>\n",
              "      <th>N_BATHROOM</th>\n",
              "      <th>N_ROOM</th>\n",
              "      <th>QS_ROOMS</th>\n",
              "      <th>QS_BATHROOM</th>\n",
              "      <th>QS_BEDROOM</th>\n",
              "      <th>QS_OVERALL</th>\n",
              "      <th>SALES_PRICE</th>\n",
              "      <th>...</th>\n",
              "      <th>UTILITY_AVAIL_ELO</th>\n",
              "      <th>UTILITY_AVAIL_NoSeWa</th>\n",
              "      <th>UTILITY_AVAIL_NoSewr</th>\n",
              "      <th>STREET_No Access</th>\n",
              "      <th>STREET_Paved</th>\n",
              "      <th>MZZONE_C</th>\n",
              "      <th>MZZONE_I</th>\n",
              "      <th>MZZONE_RH</th>\n",
              "      <th>MZZONE_RL</th>\n",
              "      <th>MZZONE_RM</th>\n",
              "    </tr>\n",
              "  </thead>\n",
              "  <tbody>\n",
              "    <tr>\n",
              "      <th>INT_SQFT</th>\n",
              "      <td>1.000000</td>\n",
              "      <td>0.002022</td>\n",
              "      <td>0.786263</td>\n",
              "      <td>0.515290</td>\n",
              "      <td>0.951279</td>\n",
              "      <td>0.019850</td>\n",
              "      <td>-0.008337</td>\n",
              "      <td>0.008865</td>\n",
              "      <td>0.013989</td>\n",
              "      <td>0.612125</td>\n",
              "      <td>...</td>\n",
              "      <td>-0.089793</td>\n",
              "      <td>0.025290</td>\n",
              "      <td>0.030922</td>\n",
              "      <td>-0.113160</td>\n",
              "      <td>0.060426</td>\n",
              "      <td>-0.084035</td>\n",
              "      <td>-0.078290</td>\n",
              "      <td>0.033044</td>\n",
              "      <td>0.067795</td>\n",
              "      <td>0.053017</td>\n",
              "    </tr>\n",
              "    <tr>\n",
              "      <th>DIST_MAINROAD</th>\n",
              "      <td>0.002022</td>\n",
              "      <td>1.000000</td>\n",
              "      <td>-0.002723</td>\n",
              "      <td>0.001850</td>\n",
              "      <td>0.002301</td>\n",
              "      <td>0.002237</td>\n",
              "      <td>-0.029468</td>\n",
              "      <td>0.001554</td>\n",
              "      <td>-0.017255</td>\n",
              "      <td>0.018783</td>\n",
              "      <td>...</td>\n",
              "      <td>0.012707</td>\n",
              "      <td>-0.014840</td>\n",
              "      <td>0.011974</td>\n",
              "      <td>-0.009223</td>\n",
              "      <td>0.014090</td>\n",
              "      <td>-0.008996</td>\n",
              "      <td>0.009730</td>\n",
              "      <td>0.007454</td>\n",
              "      <td>0.008959</td>\n",
              "      <td>-0.007888</td>\n",
              "    </tr>\n",
              "    <tr>\n",
              "      <th>N_BEDROOM</th>\n",
              "      <td>0.786263</td>\n",
              "      <td>-0.002723</td>\n",
              "      <td>1.000000</td>\n",
              "      <td>0.755207</td>\n",
              "      <td>0.840209</td>\n",
              "      <td>0.014948</td>\n",
              "      <td>-0.007534</td>\n",
              "      <td>0.015752</td>\n",
              "      <td>0.014245</td>\n",
              "      <td>0.330987</td>\n",
              "      <td>...</td>\n",
              "      <td>-0.111240</td>\n",
              "      <td>0.031149</td>\n",
              "      <td>0.038896</td>\n",
              "      <td>-0.140196</td>\n",
              "      <td>0.069205</td>\n",
              "      <td>-0.017259</td>\n",
              "      <td>-0.014333</td>\n",
              "      <td>-0.010636</td>\n",
              "      <td>0.040104</td>\n",
              "      <td>0.013931</td>\n",
              "    </tr>\n",
              "    <tr>\n",
              "      <th>N_BATHROOM</th>\n",
              "      <td>0.515290</td>\n",
              "      <td>0.001850</td>\n",
              "      <td>0.755207</td>\n",
              "      <td>1.000000</td>\n",
              "      <td>0.568541</td>\n",
              "      <td>0.013376</td>\n",
              "      <td>-0.012043</td>\n",
              "      <td>0.013191</td>\n",
              "      <td>0.007961</td>\n",
              "      <td>0.108834</td>\n",
              "      <td>...</td>\n",
              "      <td>-0.071477</td>\n",
              "      <td>0.021273</td>\n",
              "      <td>0.031606</td>\n",
              "      <td>-0.078364</td>\n",
              "      <td>0.028509</td>\n",
              "      <td>0.052443</td>\n",
              "      <td>0.060573</td>\n",
              "      <td>-0.032484</td>\n",
              "      <td>-0.012477</td>\n",
              "      <td>-0.023799</td>\n",
              "    </tr>\n",
              "    <tr>\n",
              "      <th>N_ROOM</th>\n",
              "      <td>0.951279</td>\n",
              "      <td>0.002301</td>\n",
              "      <td>0.840209</td>\n",
              "      <td>0.568541</td>\n",
              "      <td>1.000000</td>\n",
              "      <td>0.016524</td>\n",
              "      <td>-0.007545</td>\n",
              "      <td>0.015072</td>\n",
              "      <td>0.015418</td>\n",
              "      <td>0.602760</td>\n",
              "      <td>...</td>\n",
              "      <td>-0.083528</td>\n",
              "      <td>0.021138</td>\n",
              "      <td>0.033587</td>\n",
              "      <td>-0.105984</td>\n",
              "      <td>0.049886</td>\n",
              "      <td>-0.091341</td>\n",
              "      <td>-0.087920</td>\n",
              "      <td>0.026932</td>\n",
              "      <td>0.084320</td>\n",
              "      <td>0.060642</td>\n",
              "    </tr>\n",
              "    <tr>\n",
              "      <th>QS_ROOMS</th>\n",
              "      <td>0.019850</td>\n",
              "      <td>0.002237</td>\n",
              "      <td>0.014948</td>\n",
              "      <td>0.013376</td>\n",
              "      <td>0.016524</td>\n",
              "      <td>1.000000</td>\n",
              "      <td>0.008828</td>\n",
              "      <td>0.007789</td>\n",
              "      <td>0.516147</td>\n",
              "      <td>0.021967</td>\n",
              "      <td>...</td>\n",
              "      <td>-0.018183</td>\n",
              "      <td>0.005090</td>\n",
              "      <td>0.010696</td>\n",
              "      <td>-0.011349</td>\n",
              "      <td>0.017089</td>\n",
              "      <td>-0.008152</td>\n",
              "      <td>0.007917</td>\n",
              "      <td>0.012162</td>\n",
              "      <td>-0.012083</td>\n",
              "      <td>0.003202</td>\n",
              "    </tr>\n",
              "    <tr>\n",
              "      <th>QS_BATHROOM</th>\n",
              "      <td>-0.008337</td>\n",
              "      <td>-0.029468</td>\n",
              "      <td>-0.007534</td>\n",
              "      <td>-0.012043</td>\n",
              "      <td>-0.007545</td>\n",
              "      <td>0.008828</td>\n",
              "      <td>1.000000</td>\n",
              "      <td>-0.011745</td>\n",
              "      <td>0.549056</td>\n",
              "      <td>-0.011377</td>\n",
              "      <td>...</td>\n",
              "      <td>0.015155</td>\n",
              "      <td>0.002258</td>\n",
              "      <td>-0.004176</td>\n",
              "      <td>-0.011821</td>\n",
              "      <td>0.016293</td>\n",
              "      <td>0.008982</td>\n",
              "      <td>0.010363</td>\n",
              "      <td>0.003302</td>\n",
              "      <td>-0.025412</td>\n",
              "      <td>0.003103</td>\n",
              "    </tr>\n",
              "    <tr>\n",
              "      <th>QS_BEDROOM</th>\n",
              "      <td>0.008865</td>\n",
              "      <td>0.001554</td>\n",
              "      <td>0.015752</td>\n",
              "      <td>0.013191</td>\n",
              "      <td>0.015072</td>\n",
              "      <td>0.007789</td>\n",
              "      <td>-0.011745</td>\n",
              "      <td>1.000000</td>\n",
              "      <td>0.628168</td>\n",
              "      <td>0.018804</td>\n",
              "      <td>...</td>\n",
              "      <td>-0.021965</td>\n",
              "      <td>0.003134</td>\n",
              "      <td>0.015301</td>\n",
              "      <td>-0.016548</td>\n",
              "      <td>-0.008378</td>\n",
              "      <td>-0.012115</td>\n",
              "      <td>-0.018541</td>\n",
              "      <td>-0.003892</td>\n",
              "      <td>0.011552</td>\n",
              "      <td>0.001457</td>\n",
              "    </tr>\n",
              "    <tr>\n",
              "      <th>QS_OVERALL</th>\n",
              "      <td>0.013989</td>\n",
              "      <td>-0.017255</td>\n",
              "      <td>0.014245</td>\n",
              "      <td>0.007961</td>\n",
              "      <td>0.015418</td>\n",
              "      <td>0.516147</td>\n",
              "      <td>0.549056</td>\n",
              "      <td>0.628168</td>\n",
              "      <td>1.000000</td>\n",
              "      <td>0.020485</td>\n",
              "      <td>...</td>\n",
              "      <td>-0.014539</td>\n",
              "      <td>0.009898</td>\n",
              "      <td>0.007248</td>\n",
              "      <td>-0.021478</td>\n",
              "      <td>0.015434</td>\n",
              "      <td>-0.006012</td>\n",
              "      <td>-0.011881</td>\n",
              "      <td>0.008581</td>\n",
              "      <td>-0.012439</td>\n",
              "      <td>0.004641</td>\n",
              "    </tr>\n",
              "    <tr>\n",
              "      <th>SALES_PRICE</th>\n",
              "      <td>0.612125</td>\n",
              "      <td>0.018783</td>\n",
              "      <td>0.330987</td>\n",
              "      <td>0.108834</td>\n",
              "      <td>0.602760</td>\n",
              "      <td>0.021967</td>\n",
              "      <td>-0.011377</td>\n",
              "      <td>0.018804</td>\n",
              "      <td>0.020485</td>\n",
              "      <td>1.000000</td>\n",
              "      <td>...</td>\n",
              "      <td>-0.058934</td>\n",
              "      <td>-0.000290</td>\n",
              "      <td>0.004818</td>\n",
              "      <td>-0.149341</td>\n",
              "      <td>0.032493</td>\n",
              "      <td>-0.218441</td>\n",
              "      <td>-0.161581</td>\n",
              "      <td>0.022598</td>\n",
              "      <td>0.137466</td>\n",
              "      <td>0.235134</td>\n",
              "    </tr>\n",
              "    <tr>\n",
              "      <th>BUILDING_AGE</th>\n",
              "      <td>-0.012922</td>\n",
              "      <td>-0.003176</td>\n",
              "      <td>-0.045635</td>\n",
              "      <td>-0.019844</td>\n",
              "      <td>-0.033607</td>\n",
              "      <td>0.020012</td>\n",
              "      <td>0.021485</td>\n",
              "      <td>-0.018402</td>\n",
              "      <td>0.012100</td>\n",
              "      <td>-0.119192</td>\n",
              "      <td>...</td>\n",
              "      <td>0.047071</td>\n",
              "      <td>-0.011030</td>\n",
              "      <td>-0.011315</td>\n",
              "      <td>0.043845</td>\n",
              "      <td>-0.016607</td>\n",
              "      <td>0.061865</td>\n",
              "      <td>0.075173</td>\n",
              "      <td>-0.028461</td>\n",
              "      <td>-0.052889</td>\n",
              "      <td>-0.042005</td>\n",
              "    </tr>\n",
              "    <tr>\n",
              "      <th>AREA_Anna Nagar</th>\n",
              "      <td>0.286339</td>\n",
              "      <td>0.006508</td>\n",
              "      <td>-0.104874</td>\n",
              "      <td>-0.183745</td>\n",
              "      <td>0.245926</td>\n",
              "      <td>0.009160</td>\n",
              "      <td>-0.011833</td>\n",
              "      <td>-0.007735</td>\n",
              "      <td>-0.004105</td>\n",
              "      <td>0.400390</td>\n",
              "      <td>...</td>\n",
              "      <td>0.038552</td>\n",
              "      <td>-0.020749</td>\n",
              "      <td>-0.018180</td>\n",
              "      <td>0.047137</td>\n",
              "      <td>-0.036454</td>\n",
              "      <td>-0.102243</td>\n",
              "      <td>-0.099702</td>\n",
              "      <td>0.058540</td>\n",
              "      <td>0.061237</td>\n",
              "      <td>0.063271</td>\n",
              "    </tr>\n",
              "    <tr>\n",
              "      <th>AREA_Chrompet</th>\n",
              "      <td>-0.464682</td>\n",
              "      <td>-0.014367</td>\n",
              "      <td>-0.329743</td>\n",
              "      <td>-0.291976</td>\n",
              "      <td>-0.377565</td>\n",
              "      <td>-0.011027</td>\n",
              "      <td>0.009389</td>\n",
              "      <td>-0.013034</td>\n",
              "      <td>-0.008068</td>\n",
              "      <td>-0.131183</td>\n",
              "      <td>...</td>\n",
              "      <td>0.031832</td>\n",
              "      <td>-0.016427</td>\n",
              "      <td>0.003100</td>\n",
              "      <td>0.051259</td>\n",
              "      <td>-0.034832</td>\n",
              "      <td>-0.162467</td>\n",
              "      <td>-0.158430</td>\n",
              "      <td>0.092709</td>\n",
              "      <td>0.100659</td>\n",
              "      <td>0.097476</td>\n",
              "    </tr>\n",
              "    <tr>\n",
              "      <th>AREA_KK Nagar</th>\n",
              "      <td>0.460293</td>\n",
              "      <td>0.007718</td>\n",
              "      <td>0.590863</td>\n",
              "      <td>0.377424</td>\n",
              "      <td>0.444985</td>\n",
              "      <td>0.013845</td>\n",
              "      <td>0.010052</td>\n",
              "      <td>0.012491</td>\n",
              "      <td>0.019730</td>\n",
              "      <td>0.193062</td>\n",
              "      <td>...</td>\n",
              "      <td>-0.210802</td>\n",
              "      <td>0.075067</td>\n",
              "      <td>0.062546</td>\n",
              "      <td>-0.254194</td>\n",
              "      <td>0.132603</td>\n",
              "      <td>-0.116955</td>\n",
              "      <td>-0.114049</td>\n",
              "      <td>0.065391</td>\n",
              "      <td>0.069541</td>\n",
              "      <td>0.074460</td>\n",
              "    </tr>\n",
              "    <tr>\n",
              "      <th>AREA_Karapakkam</th>\n",
              "      <td>-0.297143</td>\n",
              "      <td>0.012111</td>\n",
              "      <td>-0.199260</td>\n",
              "      <td>0.114119</td>\n",
              "      <td>-0.333116</td>\n",
              "      <td>-0.011715</td>\n",
              "      <td>-0.010457</td>\n",
              "      <td>0.004660</td>\n",
              "      <td>-0.010847</td>\n",
              "      <td>-0.460068</td>\n",
              "      <td>...</td>\n",
              "      <td>0.024847</td>\n",
              "      <td>-0.011768</td>\n",
              "      <td>-0.000362</td>\n",
              "      <td>0.062909</td>\n",
              "      <td>-0.029135</td>\n",
              "      <td>0.176819</td>\n",
              "      <td>0.188559</td>\n",
              "      <td>-0.096578</td>\n",
              "      <td>-0.117026</td>\n",
              "      <td>-0.114705</td>\n",
              "    </tr>\n",
              "    <tr>\n",
              "      <th>AREA_T Nagar</th>\n",
              "      <td>0.226146</td>\n",
              "      <td>0.018237</td>\n",
              "      <td>-0.063908</td>\n",
              "      <td>-0.142524</td>\n",
              "      <td>0.204493</td>\n",
              "      <td>0.010422</td>\n",
              "      <td>-0.000426</td>\n",
              "      <td>0.014060</td>\n",
              "      <td>0.012622</td>\n",
              "      <td>0.343654</td>\n",
              "      <td>...</td>\n",
              "      <td>0.013204</td>\n",
              "      <td>0.000576</td>\n",
              "      <td>-0.004561</td>\n",
              "      <td>0.022380</td>\n",
              "      <td>-0.002816</td>\n",
              "      <td>-0.079306</td>\n",
              "      <td>-0.077335</td>\n",
              "      <td>0.026404</td>\n",
              "      <td>0.054497</td>\n",
              "      <td>0.061047</td>\n",
              "    </tr>\n",
              "    <tr>\n",
              "      <th>AREA_Velachery</th>\n",
              "      <td>0.314239</td>\n",
              "      <td>-0.033195</td>\n",
              "      <td>0.367385</td>\n",
              "      <td>0.157303</td>\n",
              "      <td>0.269114</td>\n",
              "      <td>0.002817</td>\n",
              "      <td>-0.000912</td>\n",
              "      <td>-0.009001</td>\n",
              "      <td>-0.000996</td>\n",
              "      <td>0.016186</td>\n",
              "      <td>...</td>\n",
              "      <td>0.046705</td>\n",
              "      <td>-0.017771</td>\n",
              "      <td>-0.019025</td>\n",
              "      <td>0.028649</td>\n",
              "      <td>-0.007572</td>\n",
              "      <td>0.137548</td>\n",
              "      <td>0.128743</td>\n",
              "      <td>-0.075133</td>\n",
              "      <td>-0.084837</td>\n",
              "      <td>-0.086711</td>\n",
              "    </tr>\n",
              "    <tr>\n",
              "      <th>SALE_COND_AdjLand</th>\n",
              "      <td>-0.004330</td>\n",
              "      <td>-0.008807</td>\n",
              "      <td>-0.004603</td>\n",
              "      <td>-0.002279</td>\n",
              "      <td>-0.006887</td>\n",
              "      <td>-0.000212</td>\n",
              "      <td>0.013288</td>\n",
              "      <td>0.004598</td>\n",
              "      <td>0.009949</td>\n",
              "      <td>0.042032</td>\n",
              "      <td>...</td>\n",
              "      <td>-0.003484</td>\n",
              "      <td>0.012937</td>\n",
              "      <td>-0.004185</td>\n",
              "      <td>-0.001771</td>\n",
              "      <td>-0.009197</td>\n",
              "      <td>0.000877</td>\n",
              "      <td>-0.003039</td>\n",
              "      <td>0.012182</td>\n",
              "      <td>-0.008044</td>\n",
              "      <td>-0.003047</td>\n",
              "    </tr>\n",
              "    <tr>\n",
              "      <th>SALE_COND_Family</th>\n",
              "      <td>-0.009551</td>\n",
              "      <td>0.012948</td>\n",
              "      <td>-0.009080</td>\n",
              "      <td>-0.009488</td>\n",
              "      <td>-0.012573</td>\n",
              "      <td>0.026149</td>\n",
              "      <td>-0.016166</td>\n",
              "      <td>-0.002102</td>\n",
              "      <td>-0.000889</td>\n",
              "      <td>-0.020856</td>\n",
              "      <td>...</td>\n",
              "      <td>0.005708</td>\n",
              "      <td>-0.012241</td>\n",
              "      <td>0.005689</td>\n",
              "      <td>0.014060</td>\n",
              "      <td>0.001767</td>\n",
              "      <td>0.000601</td>\n",
              "      <td>0.019445</td>\n",
              "      <td>-0.003709</td>\n",
              "      <td>-0.013423</td>\n",
              "      <td>0.004380</td>\n",
              "    </tr>\n",
              "    <tr>\n",
              "      <th>SALE_COND_Normal Sale</th>\n",
              "      <td>0.014994</td>\n",
              "      <td>-0.001319</td>\n",
              "      <td>0.021297</td>\n",
              "      <td>0.018667</td>\n",
              "      <td>0.015171</td>\n",
              "      <td>-0.007907</td>\n",
              "      <td>-0.017429</td>\n",
              "      <td>-0.003757</td>\n",
              "      <td>-0.013518</td>\n",
              "      <td>0.013178</td>\n",
              "      <td>...</td>\n",
              "      <td>0.006293</td>\n",
              "      <td>-0.004403</td>\n",
              "      <td>0.004738</td>\n",
              "      <td>0.009560</td>\n",
              "      <td>0.021338</td>\n",
              "      <td>-0.019860</td>\n",
              "      <td>-0.008185</td>\n",
              "      <td>-0.011038</td>\n",
              "      <td>0.023273</td>\n",
              "      <td>0.006684</td>\n",
              "    </tr>\n",
              "    <tr>\n",
              "      <th>SALE_COND_Partial</th>\n",
              "      <td>0.000752</td>\n",
              "      <td>0.000621</td>\n",
              "      <td>-0.001631</td>\n",
              "      <td>-0.007181</td>\n",
              "      <td>0.005191</td>\n",
              "      <td>-0.003474</td>\n",
              "      <td>0.005475</td>\n",
              "      <td>-0.003018</td>\n",
              "      <td>0.000937</td>\n",
              "      <td>-0.037140</td>\n",
              "      <td>...</td>\n",
              "      <td>-0.008375</td>\n",
              "      <td>-0.008080</td>\n",
              "      <td>0.013089</td>\n",
              "      <td>-0.002005</td>\n",
              "      <td>-0.010546</td>\n",
              "      <td>0.005425</td>\n",
              "      <td>-0.017198</td>\n",
              "      <td>0.003798</td>\n",
              "      <td>0.008358</td>\n",
              "      <td>0.000593</td>\n",
              "    </tr>\n",
              "    <tr>\n",
              "      <th>PARK_FACIL_Yes</th>\n",
              "      <td>0.004618</td>\n",
              "      <td>-0.009448</td>\n",
              "      <td>-0.009357</td>\n",
              "      <td>-0.014033</td>\n",
              "      <td>-0.000934</td>\n",
              "      <td>-0.008128</td>\n",
              "      <td>-0.011935</td>\n",
              "      <td>-0.001165</td>\n",
              "      <td>-0.009601</td>\n",
              "      <td>0.146428</td>\n",
              "      <td>...</td>\n",
              "      <td>0.026092</td>\n",
              "      <td>0.011466</td>\n",
              "      <td>-0.019863</td>\n",
              "      <td>-0.003570</td>\n",
              "      <td>0.008339</td>\n",
              "      <td>-0.002648</td>\n",
              "      <td>-0.009575</td>\n",
              "      <td>0.000432</td>\n",
              "      <td>0.008648</td>\n",
              "      <td>-0.009550</td>\n",
              "    </tr>\n",
              "    <tr>\n",
              "      <th>BUILDTYPE_House</th>\n",
              "      <td>-0.006848</td>\n",
              "      <td>-0.019417</td>\n",
              "      <td>0.004914</td>\n",
              "      <td>0.018195</td>\n",
              "      <td>-0.005288</td>\n",
              "      <td>-0.017000</td>\n",
              "      <td>0.002439</td>\n",
              "      <td>-0.003363</td>\n",
              "      <td>-0.010053</td>\n",
              "      <td>-0.344982</td>\n",
              "      <td>...</td>\n",
              "      <td>0.006319</td>\n",
              "      <td>-0.019658</td>\n",
              "      <td>0.023176</td>\n",
              "      <td>0.001693</td>\n",
              "      <td>-0.026642</td>\n",
              "      <td>-0.012287</td>\n",
              "      <td>-0.010746</td>\n",
              "      <td>-0.003653</td>\n",
              "      <td>0.014990</td>\n",
              "      <td>-0.003168</td>\n",
              "    </tr>\n",
              "    <tr>\n",
              "      <th>BUILDTYPE_Other</th>\n",
              "      <td>-0.001995</td>\n",
              "      <td>-0.002458</td>\n",
              "      <td>-0.004435</td>\n",
              "      <td>-0.012305</td>\n",
              "      <td>-0.003472</td>\n",
              "      <td>0.007182</td>\n",
              "      <td>0.007098</td>\n",
              "      <td>0.001363</td>\n",
              "      <td>0.007293</td>\n",
              "      <td>-0.201783</td>\n",
              "      <td>...</td>\n",
              "      <td>0.015240</td>\n",
              "      <td>0.016454</td>\n",
              "      <td>-0.014390</td>\n",
              "      <td>-0.002512</td>\n",
              "      <td>0.006137</td>\n",
              "      <td>0.014876</td>\n",
              "      <td>-0.004024</td>\n",
              "      <td>-0.005285</td>\n",
              "      <td>-0.005817</td>\n",
              "      <td>-0.004162</td>\n",
              "    </tr>\n",
              "    <tr>\n",
              "      <th>UTILITY_AVAIL_ELO</th>\n",
              "      <td>-0.089793</td>\n",
              "      <td>0.012707</td>\n",
              "      <td>-0.111240</td>\n",
              "      <td>-0.071477</td>\n",
              "      <td>-0.083528</td>\n",
              "      <td>-0.018183</td>\n",
              "      <td>0.015155</td>\n",
              "      <td>-0.021965</td>\n",
              "      <td>-0.014539</td>\n",
              "      <td>-0.058934</td>\n",
              "      <td>...</td>\n",
              "      <td>1.000000</td>\n",
              "      <td>-0.311941</td>\n",
              "      <td>-0.307191</td>\n",
              "      <td>0.060225</td>\n",
              "      <td>-0.021161</td>\n",
              "      <td>0.024706</td>\n",
              "      <td>0.054549</td>\n",
              "      <td>-0.007918</td>\n",
              "      <td>-0.033396</td>\n",
              "      <td>-0.011801</td>\n",
              "    </tr>\n",
              "    <tr>\n",
              "      <th>UTILITY_AVAIL_NoSeWa</th>\n",
              "      <td>0.025290</td>\n",
              "      <td>-0.014840</td>\n",
              "      <td>0.031149</td>\n",
              "      <td>0.021273</td>\n",
              "      <td>0.021138</td>\n",
              "      <td>0.005090</td>\n",
              "      <td>0.002258</td>\n",
              "      <td>0.003134</td>\n",
              "      <td>0.009898</td>\n",
              "      <td>-0.000290</td>\n",
              "      <td>...</td>\n",
              "      <td>-0.311941</td>\n",
              "      <td>1.000000</td>\n",
              "      <td>-0.351758</td>\n",
              "      <td>-0.014065</td>\n",
              "      <td>-0.000610</td>\n",
              "      <td>-0.009270</td>\n",
              "      <td>-0.019755</td>\n",
              "      <td>-0.002581</td>\n",
              "      <td>0.013812</td>\n",
              "      <td>0.005704</td>\n",
              "    </tr>\n",
              "    <tr>\n",
              "      <th>UTILITY_AVAIL_NoSewr</th>\n",
              "      <td>0.030922</td>\n",
              "      <td>0.011974</td>\n",
              "      <td>0.038896</td>\n",
              "      <td>0.031606</td>\n",
              "      <td>0.033587</td>\n",
              "      <td>0.010696</td>\n",
              "      <td>-0.004176</td>\n",
              "      <td>0.015301</td>\n",
              "      <td>0.007248</td>\n",
              "      <td>0.004818</td>\n",
              "      <td>...</td>\n",
              "      <td>-0.307191</td>\n",
              "      <td>-0.351758</td>\n",
              "      <td>1.000000</td>\n",
              "      <td>-0.039926</td>\n",
              "      <td>0.030991</td>\n",
              "      <td>0.004211</td>\n",
              "      <td>-0.013623</td>\n",
              "      <td>0.000912</td>\n",
              "      <td>0.006573</td>\n",
              "      <td>0.008501</td>\n",
              "    </tr>\n",
              "    <tr>\n",
              "      <th>STREET_No Access</th>\n",
              "      <td>-0.113160</td>\n",
              "      <td>-0.009223</td>\n",
              "      <td>-0.140196</td>\n",
              "      <td>-0.078364</td>\n",
              "      <td>-0.105984</td>\n",
              "      <td>-0.011349</td>\n",
              "      <td>-0.011821</td>\n",
              "      <td>-0.016548</td>\n",
              "      <td>-0.021478</td>\n",
              "      <td>-0.149341</td>\n",
              "      <td>...</td>\n",
              "      <td>0.060225</td>\n",
              "      <td>-0.014065</td>\n",
              "      <td>-0.039926</td>\n",
              "      <td>1.000000</td>\n",
              "      <td>-0.473871</td>\n",
              "      <td>0.040820</td>\n",
              "      <td>0.015564</td>\n",
              "      <td>-0.022833</td>\n",
              "      <td>-0.012187</td>\n",
              "      <td>-0.017546</td>\n",
              "    </tr>\n",
              "    <tr>\n",
              "      <th>STREET_Paved</th>\n",
              "      <td>0.060426</td>\n",
              "      <td>0.014090</td>\n",
              "      <td>0.069205</td>\n",
              "      <td>0.028509</td>\n",
              "      <td>0.049886</td>\n",
              "      <td>0.017089</td>\n",
              "      <td>0.016293</td>\n",
              "      <td>-0.008378</td>\n",
              "      <td>0.015434</td>\n",
              "      <td>0.032493</td>\n",
              "      <td>...</td>\n",
              "      <td>-0.021161</td>\n",
              "      <td>-0.000610</td>\n",
              "      <td>0.030991</td>\n",
              "      <td>-0.473871</td>\n",
              "      <td>1.000000</td>\n",
              "      <td>-0.026283</td>\n",
              "      <td>-0.014487</td>\n",
              "      <td>0.022670</td>\n",
              "      <td>0.019845</td>\n",
              "      <td>-0.008981</td>\n",
              "    </tr>\n",
              "    <tr>\n",
              "      <th>MZZONE_C</th>\n",
              "      <td>-0.084035</td>\n",
              "      <td>-0.008996</td>\n",
              "      <td>-0.017259</td>\n",
              "      <td>0.052443</td>\n",
              "      <td>-0.091341</td>\n",
              "      <td>-0.008152</td>\n",
              "      <td>0.008982</td>\n",
              "      <td>-0.012115</td>\n",
              "      <td>-0.006012</td>\n",
              "      <td>-0.218441</td>\n",
              "      <td>...</td>\n",
              "      <td>0.024706</td>\n",
              "      <td>-0.009270</td>\n",
              "      <td>0.004211</td>\n",
              "      <td>0.040820</td>\n",
              "      <td>-0.026283</td>\n",
              "      <td>1.000000</td>\n",
              "      <td>-0.081771</td>\n",
              "      <td>-0.169993</td>\n",
              "      <td>-0.172252</td>\n",
              "      <td>-0.169680</td>\n",
              "    </tr>\n",
              "    <tr>\n",
              "      <th>MZZONE_I</th>\n",
              "      <td>-0.078290</td>\n",
              "      <td>0.009730</td>\n",
              "      <td>-0.014333</td>\n",
              "      <td>0.060573</td>\n",
              "      <td>-0.087920</td>\n",
              "      <td>0.007917</td>\n",
              "      <td>0.010363</td>\n",
              "      <td>-0.018541</td>\n",
              "      <td>-0.011881</td>\n",
              "      <td>-0.161581</td>\n",
              "      <td>...</td>\n",
              "      <td>0.054549</td>\n",
              "      <td>-0.019755</td>\n",
              "      <td>-0.013623</td>\n",
              "      <td>0.015564</td>\n",
              "      <td>-0.014487</td>\n",
              "      <td>-0.081771</td>\n",
              "      <td>1.000000</td>\n",
              "      <td>-0.165769</td>\n",
              "      <td>-0.167972</td>\n",
              "      <td>-0.165464</td>\n",
              "    </tr>\n",
              "    <tr>\n",
              "      <th>MZZONE_RH</th>\n",
              "      <td>0.033044</td>\n",
              "      <td>0.007454</td>\n",
              "      <td>-0.010636</td>\n",
              "      <td>-0.032484</td>\n",
              "      <td>0.026932</td>\n",
              "      <td>0.012162</td>\n",
              "      <td>0.003302</td>\n",
              "      <td>-0.003892</td>\n",
              "      <td>0.008581</td>\n",
              "      <td>0.022598</td>\n",
              "      <td>...</td>\n",
              "      <td>-0.007918</td>\n",
              "      <td>-0.002581</td>\n",
              "      <td>0.000912</td>\n",
              "      <td>-0.022833</td>\n",
              "      <td>0.022670</td>\n",
              "      <td>-0.169993</td>\n",
              "      <td>-0.165769</td>\n",
              "      <td>1.000000</td>\n",
              "      <td>-0.349198</td>\n",
              "      <td>-0.343983</td>\n",
              "    </tr>\n",
              "    <tr>\n",
              "      <th>MZZONE_RL</th>\n",
              "      <td>0.067795</td>\n",
              "      <td>0.008959</td>\n",
              "      <td>0.040104</td>\n",
              "      <td>-0.012477</td>\n",
              "      <td>0.084320</td>\n",
              "      <td>-0.012083</td>\n",
              "      <td>-0.025412</td>\n",
              "      <td>0.011552</td>\n",
              "      <td>-0.012439</td>\n",
              "      <td>0.137466</td>\n",
              "      <td>...</td>\n",
              "      <td>-0.033396</td>\n",
              "      <td>0.013812</td>\n",
              "      <td>0.006573</td>\n",
              "      <td>-0.012187</td>\n",
              "      <td>0.019845</td>\n",
              "      <td>-0.172252</td>\n",
              "      <td>-0.167972</td>\n",
              "      <td>-0.349198</td>\n",
              "      <td>1.000000</td>\n",
              "      <td>-0.348553</td>\n",
              "    </tr>\n",
              "    <tr>\n",
              "      <th>MZZONE_RM</th>\n",
              "      <td>0.053017</td>\n",
              "      <td>-0.007888</td>\n",
              "      <td>0.013931</td>\n",
              "      <td>-0.023799</td>\n",
              "      <td>0.060642</td>\n",
              "      <td>0.003202</td>\n",
              "      <td>0.003103</td>\n",
              "      <td>0.001457</td>\n",
              "      <td>0.004641</td>\n",
              "      <td>0.235134</td>\n",
              "      <td>...</td>\n",
              "      <td>-0.011801</td>\n",
              "      <td>0.005704</td>\n",
              "      <td>0.008501</td>\n",
              "      <td>-0.017546</td>\n",
              "      <td>-0.008981</td>\n",
              "      <td>-0.169680</td>\n",
              "      <td>-0.165464</td>\n",
              "      <td>-0.343983</td>\n",
              "      <td>-0.348553</td>\n",
              "      <td>1.000000</td>\n",
              "    </tr>\n",
              "  </tbody>\n",
              "</table>\n",
              "<p>34 rows × 34 columns</p>\n",
              "</div>\n",
              "      <button class=\"colab-df-convert\" onclick=\"convertToInteractive('df-35c35867-7f0a-4d84-99f2-f56f0c3ca0c1')\"\n",
              "              title=\"Convert this dataframe to an interactive table.\"\n",
              "              style=\"display:none;\">\n",
              "        \n",
              "  <svg xmlns=\"http://www.w3.org/2000/svg\" height=\"24px\"viewBox=\"0 0 24 24\"\n",
              "       width=\"24px\">\n",
              "    <path d=\"M0 0h24v24H0V0z\" fill=\"none\"/>\n",
              "    <path d=\"M18.56 5.44l.94 2.06.94-2.06 2.06-.94-2.06-.94-.94-2.06-.94 2.06-2.06.94zm-11 1L8.5 8.5l.94-2.06 2.06-.94-2.06-.94L8.5 2.5l-.94 2.06-2.06.94zm10 10l.94 2.06.94-2.06 2.06-.94-2.06-.94-.94-2.06-.94 2.06-2.06.94z\"/><path d=\"M17.41 7.96l-1.37-1.37c-.4-.4-.92-.59-1.43-.59-.52 0-1.04.2-1.43.59L10.3 9.45l-7.72 7.72c-.78.78-.78 2.05 0 2.83L4 21.41c.39.39.9.59 1.41.59.51 0 1.02-.2 1.41-.59l7.78-7.78 2.81-2.81c.8-.78.8-2.07 0-2.86zM5.41 20L4 18.59l7.72-7.72 1.47 1.35L5.41 20z\"/>\n",
              "  </svg>\n",
              "      </button>\n",
              "      \n",
              "  <style>\n",
              "    .colab-df-container {\n",
              "      display:flex;\n",
              "      flex-wrap:wrap;\n",
              "      gap: 12px;\n",
              "    }\n",
              "\n",
              "    .colab-df-convert {\n",
              "      background-color: #E8F0FE;\n",
              "      border: none;\n",
              "      border-radius: 50%;\n",
              "      cursor: pointer;\n",
              "      display: none;\n",
              "      fill: #1967D2;\n",
              "      height: 32px;\n",
              "      padding: 0 0 0 0;\n",
              "      width: 32px;\n",
              "    }\n",
              "\n",
              "    .colab-df-convert:hover {\n",
              "      background-color: #E2EBFA;\n",
              "      box-shadow: 0px 1px 2px rgba(60, 64, 67, 0.3), 0px 1px 3px 1px rgba(60, 64, 67, 0.15);\n",
              "      fill: #174EA6;\n",
              "    }\n",
              "\n",
              "    [theme=dark] .colab-df-convert {\n",
              "      background-color: #3B4455;\n",
              "      fill: #D2E3FC;\n",
              "    }\n",
              "\n",
              "    [theme=dark] .colab-df-convert:hover {\n",
              "      background-color: #434B5C;\n",
              "      box-shadow: 0px 1px 3px 1px rgba(0, 0, 0, 0.15);\n",
              "      filter: drop-shadow(0px 1px 2px rgba(0, 0, 0, 0.3));\n",
              "      fill: #FFFFFF;\n",
              "    }\n",
              "  </style>\n",
              "\n",
              "      <script>\n",
              "        const buttonEl =\n",
              "          document.querySelector('#df-35c35867-7f0a-4d84-99f2-f56f0c3ca0c1 button.colab-df-convert');\n",
              "        buttonEl.style.display =\n",
              "          google.colab.kernel.accessAllowed ? 'block' : 'none';\n",
              "\n",
              "        async function convertToInteractive(key) {\n",
              "          const element = document.querySelector('#df-35c35867-7f0a-4d84-99f2-f56f0c3ca0c1');\n",
              "          const dataTable =\n",
              "            await google.colab.kernel.invokeFunction('convertToInteractive',\n",
              "                                                     [key], {});\n",
              "          if (!dataTable) return;\n",
              "\n",
              "          const docLinkHtml = 'Like what you see? Visit the ' +\n",
              "            '<a target=\"_blank\" href=https://colab.research.google.com/notebooks/data_table.ipynb>data table notebook</a>'\n",
              "            + ' to learn more about interactive tables.';\n",
              "          element.innerHTML = '';\n",
              "          dataTable['output_type'] = 'display_data';\n",
              "          await google.colab.output.renderOutput(dataTable, element);\n",
              "          const docLink = document.createElement('div');\n",
              "          docLink.innerHTML = docLinkHtml;\n",
              "          element.appendChild(docLink);\n",
              "        }\n",
              "      </script>\n",
              "    </div>\n",
              "  </div>\n",
              "  "
            ]
          },
          "metadata": {},
          "execution_count": 66
        }
      ]
    },
    {
      "cell_type": "code",
      "source": [
        "df1.corr()['SALES_PRICE']"
      ],
      "metadata": {
        "colab": {
          "base_uri": "https://localhost:8080/"
        },
        "id": "NXOul5GIXz_s",
        "outputId": "919f4223-99df-4f89-b4a3-4c9dd7370892"
      },
      "id": "NXOul5GIXz_s",
      "execution_count": 67,
      "outputs": [
        {
          "output_type": "execute_result",
          "data": {
            "text/plain": [
              "INT_SQFT                 0.612125\n",
              "DIST_MAINROAD            0.018783\n",
              "N_BEDROOM                0.330987\n",
              "N_BATHROOM               0.108834\n",
              "N_ROOM                   0.602760\n",
              "QS_ROOMS                 0.021967\n",
              "QS_BATHROOM             -0.011377\n",
              "QS_BEDROOM               0.018804\n",
              "QS_OVERALL               0.020485\n",
              "SALES_PRICE              1.000000\n",
              "BUILDING_AGE            -0.119192\n",
              "AREA_Anna Nagar          0.400390\n",
              "AREA_Chrompet           -0.131183\n",
              "AREA_KK Nagar            0.193062\n",
              "AREA_Karapakkam         -0.460068\n",
              "AREA_T Nagar             0.343654\n",
              "AREA_Velachery           0.016186\n",
              "SALE_COND_AdjLand        0.042032\n",
              "SALE_COND_Family        -0.020856\n",
              "SALE_COND_Normal Sale    0.013178\n",
              "SALE_COND_Partial       -0.037140\n",
              "PARK_FACIL_Yes           0.146428\n",
              "BUILDTYPE_House         -0.344982\n",
              "BUILDTYPE_Other         -0.201783\n",
              "UTILITY_AVAIL_ELO       -0.058934\n",
              "UTILITY_AVAIL_NoSeWa    -0.000290\n",
              "UTILITY_AVAIL_NoSewr     0.004818\n",
              "STREET_No Access        -0.149341\n",
              "STREET_Paved             0.032493\n",
              "MZZONE_C                -0.218441\n",
              "MZZONE_I                -0.161581\n",
              "MZZONE_RH                0.022598\n",
              "MZZONE_RL                0.137466\n",
              "MZZONE_RM                0.235134\n",
              "Name: SALES_PRICE, dtype: float64"
            ]
          },
          "metadata": {},
          "execution_count": 67
        }
      ]
    },
    {
      "cell_type": "code",
      "source": [
        "df1.corr()['SALES_PRICE'].sort_values(ascending=False)"
      ],
      "metadata": {
        "colab": {
          "base_uri": "https://localhost:8080/"
        },
        "id": "MBS3ESs_YerS",
        "outputId": "6aaa8acb-f9eb-4145-c96c-49a22bcdddfe"
      },
      "id": "MBS3ESs_YerS",
      "execution_count": 68,
      "outputs": [
        {
          "output_type": "execute_result",
          "data": {
            "text/plain": [
              "SALES_PRICE              1.000000\n",
              "INT_SQFT                 0.612125\n",
              "N_ROOM                   0.602760\n",
              "AREA_Anna Nagar          0.400390\n",
              "AREA_T Nagar             0.343654\n",
              "N_BEDROOM                0.330987\n",
              "MZZONE_RM                0.235134\n",
              "AREA_KK Nagar            0.193062\n",
              "PARK_FACIL_Yes           0.146428\n",
              "MZZONE_RL                0.137466\n",
              "N_BATHROOM               0.108834\n",
              "SALE_COND_AdjLand        0.042032\n",
              "STREET_Paved             0.032493\n",
              "MZZONE_RH                0.022598\n",
              "QS_ROOMS                 0.021967\n",
              "QS_OVERALL               0.020485\n",
              "QS_BEDROOM               0.018804\n",
              "DIST_MAINROAD            0.018783\n",
              "AREA_Velachery           0.016186\n",
              "SALE_COND_Normal Sale    0.013178\n",
              "UTILITY_AVAIL_NoSewr     0.004818\n",
              "UTILITY_AVAIL_NoSeWa    -0.000290\n",
              "QS_BATHROOM             -0.011377\n",
              "SALE_COND_Family        -0.020856\n",
              "SALE_COND_Partial       -0.037140\n",
              "UTILITY_AVAIL_ELO       -0.058934\n",
              "BUILDING_AGE            -0.119192\n",
              "AREA_Chrompet           -0.131183\n",
              "STREET_No Access        -0.149341\n",
              "MZZONE_I                -0.161581\n",
              "BUILDTYPE_Other         -0.201783\n",
              "MZZONE_C                -0.218441\n",
              "BUILDTYPE_House         -0.344982\n",
              "AREA_Karapakkam         -0.460068\n",
              "Name: SALES_PRICE, dtype: float64"
            ]
          },
          "metadata": {},
          "execution_count": 68
        }
      ]
    },
    {
      "cell_type": "markdown",
      "source": [
        "From the above observations we can say that INT_SQFT, N_ROOMS and AREA decides the SALES_PRICE."
      ],
      "metadata": {
        "id": "8Bz4gfcaYYZy"
      },
      "id": "8Bz4gfcaYYZy"
    },
    {
      "cell_type": "markdown",
      "source": [
        "#Model Creation\n"
      ],
      "metadata": {
        "id": "yNgm_UlUYpe1"
      },
      "id": "yNgm_UlUYpe1"
    },
    {
      "cell_type": "markdown",
      "source": [
        "Linear Regression Model"
      ],
      "metadata": {
        "id": "qrsACgnt7PNf"
      },
      "id": "qrsACgnt7PNf"
    },
    {
      "cell_type": "code",
      "source": [
        "from sklearn.linear_model import LinearRegression\n",
        "from sklearn.model_selection import train_test_split"
      ],
      "metadata": {
        "id": "cjWaHcY9YsLM"
      },
      "id": "cjWaHcY9YsLM",
      "execution_count": 69,
      "outputs": []
    },
    {
      "cell_type": "code",
      "source": [
        "x = df1.drop('SALES_PRICE',axis=1)\n",
        "y = df1.SALES_PRICE"
      ],
      "metadata": {
        "id": "UD2BNvJHSyQ6"
      },
      "id": "UD2BNvJHSyQ6",
      "execution_count": 70,
      "outputs": []
    },
    {
      "cell_type": "markdown",
      "source": [
        "Splitting the dataset into 30% test data and remaining 70% for training the model."
      ],
      "metadata": {
        "id": "4-i0WO4bTGlH"
      },
      "id": "4-i0WO4bTGlH"
    },
    {
      "cell_type": "code",
      "source": [
        "x_train,x_test,y_train,y_test = train_test_split(x,y,test_size=0.3,random_state=0)"
      ],
      "metadata": {
        "id": "xiQeipOjTBU8"
      },
      "id": "xiQeipOjTBU8",
      "execution_count": 71,
      "outputs": []
    },
    {
      "cell_type": "markdown",
      "source": [
        "Scaling the data."
      ],
      "metadata": {
        "id": "bELdOfMVT-2y"
      },
      "id": "bELdOfMVT-2y"
    },
    {
      "cell_type": "code",
      "source": [
        "from sklearn.preprocessing import StandardScaler \n",
        "scaler = StandardScaler()\n",
        "x_train_scaled = scaler.fit_transform(x_train) \n",
        "x_test_scaled = scaler.transform(x_test)"
      ],
      "metadata": {
        "id": "zOFU6zDZT-jt"
      },
      "id": "zOFU6zDZT-jt",
      "execution_count": 72,
      "outputs": []
    },
    {
      "cell_type": "markdown",
      "source": [
        "Fitting the model"
      ],
      "metadata": {
        "id": "p-kvSAoCVKkn"
      },
      "id": "p-kvSAoCVKkn"
    },
    {
      "cell_type": "code",
      "source": [
        "regressor = LinearRegression()\n",
        "model = regressor.fit(x_train_scaled, y_train)"
      ],
      "metadata": {
        "id": "iFzgCn26VNFY"
      },
      "id": "iFzgCn26VNFY",
      "execution_count": 73,
      "outputs": []
    },
    {
      "cell_type": "code",
      "source": [
        "y_pred = regressor.predict(x_test_scaled) \n",
        "y_pred"
      ],
      "metadata": {
        "colab": {
          "base_uri": "https://localhost:8080/"
        },
        "id": "-bvGX6zYVnj2",
        "outputId": "5542628a-700a-4d21-af08-34d327669f55"
      },
      "id": "-bvGX6zYVnj2",
      "execution_count": 74,
      "outputs": [
        {
          "output_type": "execute_result",
          "data": {
            "text/plain": [
              "array([13833227.77193033, 12992010.09134933, 18293672.97399795, ...,\n",
              "       14831662.50249283,  8469669.56703375,  4862144.30288488])"
            ]
          },
          "metadata": {},
          "execution_count": 74
        }
      ]
    },
    {
      "cell_type": "code",
      "source": [
        "df2 = pd.DataFrame({'Actual': y_test, 'Predicted': y_pred})\n",
        "df2"
      ],
      "metadata": {
        "colab": {
          "base_uri": "https://localhost:8080/",
          "height": 424
        },
        "id": "xWjt0U1UWASm",
        "outputId": "3408e66f-7ade-4ceb-8011-b368d0f5ba86"
      },
      "id": "xWjt0U1UWASm",
      "execution_count": 75,
      "outputs": [
        {
          "output_type": "execute_result",
          "data": {
            "text/plain": [
              "        Actual     Predicted\n",
              "3913  13376150  1.383323e+07\n",
              "2726  12857440  1.299201e+07\n",
              "6220  19124310  1.829367e+07\n",
              "2716   4905000  4.050538e+06\n",
              "5459  13534450  1.361377e+07\n",
              "...        ...           ...\n",
              "549    7511125  7.022912e+06\n",
              "6275   9414770  9.187187e+06\n",
              "6772  13614160  1.483166e+07\n",
              "2861   8415125  8.469670e+06\n",
              "5407   6479750  4.862144e+06\n",
              "\n",
              "[2133 rows x 2 columns]"
            ],
            "text/html": [
              "\n",
              "  <div id=\"df-363f9185-8584-4808-88cf-548ee2854904\">\n",
              "    <div class=\"colab-df-container\">\n",
              "      <div>\n",
              "<style scoped>\n",
              "    .dataframe tbody tr th:only-of-type {\n",
              "        vertical-align: middle;\n",
              "    }\n",
              "\n",
              "    .dataframe tbody tr th {\n",
              "        vertical-align: top;\n",
              "    }\n",
              "\n",
              "    .dataframe thead th {\n",
              "        text-align: right;\n",
              "    }\n",
              "</style>\n",
              "<table border=\"1\" class=\"dataframe\">\n",
              "  <thead>\n",
              "    <tr style=\"text-align: right;\">\n",
              "      <th></th>\n",
              "      <th>Actual</th>\n",
              "      <th>Predicted</th>\n",
              "    </tr>\n",
              "  </thead>\n",
              "  <tbody>\n",
              "    <tr>\n",
              "      <th>3913</th>\n",
              "      <td>13376150</td>\n",
              "      <td>1.383323e+07</td>\n",
              "    </tr>\n",
              "    <tr>\n",
              "      <th>2726</th>\n",
              "      <td>12857440</td>\n",
              "      <td>1.299201e+07</td>\n",
              "    </tr>\n",
              "    <tr>\n",
              "      <th>6220</th>\n",
              "      <td>19124310</td>\n",
              "      <td>1.829367e+07</td>\n",
              "    </tr>\n",
              "    <tr>\n",
              "      <th>2716</th>\n",
              "      <td>4905000</td>\n",
              "      <td>4.050538e+06</td>\n",
              "    </tr>\n",
              "    <tr>\n",
              "      <th>5459</th>\n",
              "      <td>13534450</td>\n",
              "      <td>1.361377e+07</td>\n",
              "    </tr>\n",
              "    <tr>\n",
              "      <th>...</th>\n",
              "      <td>...</td>\n",
              "      <td>...</td>\n",
              "    </tr>\n",
              "    <tr>\n",
              "      <th>549</th>\n",
              "      <td>7511125</td>\n",
              "      <td>7.022912e+06</td>\n",
              "    </tr>\n",
              "    <tr>\n",
              "      <th>6275</th>\n",
              "      <td>9414770</td>\n",
              "      <td>9.187187e+06</td>\n",
              "    </tr>\n",
              "    <tr>\n",
              "      <th>6772</th>\n",
              "      <td>13614160</td>\n",
              "      <td>1.483166e+07</td>\n",
              "    </tr>\n",
              "    <tr>\n",
              "      <th>2861</th>\n",
              "      <td>8415125</td>\n",
              "      <td>8.469670e+06</td>\n",
              "    </tr>\n",
              "    <tr>\n",
              "      <th>5407</th>\n",
              "      <td>6479750</td>\n",
              "      <td>4.862144e+06</td>\n",
              "    </tr>\n",
              "  </tbody>\n",
              "</table>\n",
              "<p>2133 rows × 2 columns</p>\n",
              "</div>\n",
              "      <button class=\"colab-df-convert\" onclick=\"convertToInteractive('df-363f9185-8584-4808-88cf-548ee2854904')\"\n",
              "              title=\"Convert this dataframe to an interactive table.\"\n",
              "              style=\"display:none;\">\n",
              "        \n",
              "  <svg xmlns=\"http://www.w3.org/2000/svg\" height=\"24px\"viewBox=\"0 0 24 24\"\n",
              "       width=\"24px\">\n",
              "    <path d=\"M0 0h24v24H0V0z\" fill=\"none\"/>\n",
              "    <path d=\"M18.56 5.44l.94 2.06.94-2.06 2.06-.94-2.06-.94-.94-2.06-.94 2.06-2.06.94zm-11 1L8.5 8.5l.94-2.06 2.06-.94-2.06-.94L8.5 2.5l-.94 2.06-2.06.94zm10 10l.94 2.06.94-2.06 2.06-.94-2.06-.94-.94-2.06-.94 2.06-2.06.94z\"/><path d=\"M17.41 7.96l-1.37-1.37c-.4-.4-.92-.59-1.43-.59-.52 0-1.04.2-1.43.59L10.3 9.45l-7.72 7.72c-.78.78-.78 2.05 0 2.83L4 21.41c.39.39.9.59 1.41.59.51 0 1.02-.2 1.41-.59l7.78-7.78 2.81-2.81c.8-.78.8-2.07 0-2.86zM5.41 20L4 18.59l7.72-7.72 1.47 1.35L5.41 20z\"/>\n",
              "  </svg>\n",
              "      </button>\n",
              "      \n",
              "  <style>\n",
              "    .colab-df-container {\n",
              "      display:flex;\n",
              "      flex-wrap:wrap;\n",
              "      gap: 12px;\n",
              "    }\n",
              "\n",
              "    .colab-df-convert {\n",
              "      background-color: #E8F0FE;\n",
              "      border: none;\n",
              "      border-radius: 50%;\n",
              "      cursor: pointer;\n",
              "      display: none;\n",
              "      fill: #1967D2;\n",
              "      height: 32px;\n",
              "      padding: 0 0 0 0;\n",
              "      width: 32px;\n",
              "    }\n",
              "\n",
              "    .colab-df-convert:hover {\n",
              "      background-color: #E2EBFA;\n",
              "      box-shadow: 0px 1px 2px rgba(60, 64, 67, 0.3), 0px 1px 3px 1px rgba(60, 64, 67, 0.15);\n",
              "      fill: #174EA6;\n",
              "    }\n",
              "\n",
              "    [theme=dark] .colab-df-convert {\n",
              "      background-color: #3B4455;\n",
              "      fill: #D2E3FC;\n",
              "    }\n",
              "\n",
              "    [theme=dark] .colab-df-convert:hover {\n",
              "      background-color: #434B5C;\n",
              "      box-shadow: 0px 1px 3px 1px rgba(0, 0, 0, 0.15);\n",
              "      filter: drop-shadow(0px 1px 2px rgba(0, 0, 0, 0.3));\n",
              "      fill: #FFFFFF;\n",
              "    }\n",
              "  </style>\n",
              "\n",
              "      <script>\n",
              "        const buttonEl =\n",
              "          document.querySelector('#df-363f9185-8584-4808-88cf-548ee2854904 button.colab-df-convert');\n",
              "        buttonEl.style.display =\n",
              "          google.colab.kernel.accessAllowed ? 'block' : 'none';\n",
              "\n",
              "        async function convertToInteractive(key) {\n",
              "          const element = document.querySelector('#df-363f9185-8584-4808-88cf-548ee2854904');\n",
              "          const dataTable =\n",
              "            await google.colab.kernel.invokeFunction('convertToInteractive',\n",
              "                                                     [key], {});\n",
              "          if (!dataTable) return;\n",
              "\n",
              "          const docLinkHtml = 'Like what you see? Visit the ' +\n",
              "            '<a target=\"_blank\" href=https://colab.research.google.com/notebooks/data_table.ipynb>data table notebook</a>'\n",
              "            + ' to learn more about interactive tables.';\n",
              "          element.innerHTML = '';\n",
              "          dataTable['output_type'] = 'display_data';\n",
              "          await google.colab.output.renderOutput(dataTable, element);\n",
              "          const docLink = document.createElement('div');\n",
              "          docLink.innerHTML = docLinkHtml;\n",
              "          element.appendChild(docLink);\n",
              "        }\n",
              "      </script>\n",
              "    </div>\n",
              "  </div>\n",
              "  "
            ]
          },
          "metadata": {},
          "execution_count": 75
        }
      ]
    },
    {
      "cell_type": "code",
      "source": [
        "plt.scatter(y_pred,y_test,alpha=0.75,color='cyan')\n",
        "plt.title('Linear Regression Model')\n",
        "plt.xlabel('Predicted Price')\n",
        "plt.ylabel('Actual Price')\n",
        "plt.show()"
      ],
      "metadata": {
        "colab": {
          "base_uri": "https://localhost:8080/",
          "height": 295
        },
        "id": "L0ZabhruWGOf",
        "outputId": "3bb84572-6b73-47ef-d690-d3a7957493ad"
      },
      "id": "L0ZabhruWGOf",
      "execution_count": 76,
      "outputs": [
        {
          "output_type": "display_data",
          "data": {
            "text/plain": [
              "<Figure size 432x288 with 1 Axes>"
            ],
            "image/png": "[encoded data removed]"
          },
          "metadata": {
            "needs_background": "light"
          }
        }
      ]
    },
    {
      "cell_type": "code",
      "source": [
        "from sklearn import metrics \n",
        "print('R2-SCORE:', metrics.r2_score(y_test,y_pred)) "
      ],
      "metadata": {
        "colab": {
          "base_uri": "https://localhost:8080/"
        },
        "id": "PzW2hRJ1W2Le",
        "outputId": "892fa7c6-68c9-4fa2-de84-8299f1015097"
      },
      "id": "PzW2hRJ1W2Le",
      "execution_count": 77,
      "outputs": [
        {
          "output_type": "stream",
          "name": "stdout",
          "text": [
            "R2-SCORE: 0.9567524868183815\n"
          ]
        }
      ]
    },
    {
      "cell_type": "markdown",
      "source": [
        "Random Forest Regressor"
      ],
      "metadata": {
        "id": "VNQnKPUTYl1P"
      },
      "id": "VNQnKPUTYl1P"
    },
    {
      "cell_type": "code",
      "source": [
        "from sklearn.ensemble import RandomForestRegressor"
      ],
      "metadata": {
        "id": "2V9o2ue7YliF"
      },
      "id": "2V9o2ue7YliF",
      "execution_count": 78,
      "outputs": []
    },
    {
      "cell_type": "code",
      "source": [
        "random = RandomForestRegressor(n_estimators=400).fit(x_train_scaled,y_train)\n",
        "rf_pred = random.predict(x_test_scaled)\n",
        "rf_reg_score = random.score(x_test_scaled,y_test)\n",
        "rf_reg_score"
      ],
      "metadata": {
        "colab": {
          "base_uri": "https://localhost:8080/"
        },
        "id": "jSNwJcElY1VQ",
        "outputId": "6cf3154e-95b2-449e-c9b0-90730f16fcdf"
      },
      "id": "jSNwJcElY1VQ",
      "execution_count": 79,
      "outputs": [
        {
          "output_type": "execute_result",
          "data": {
            "text/plain": [
              "0.9733856831455724"
            ]
          },
          "metadata": {},
          "execution_count": 79
        }
      ]
    },
    {
      "cell_type": "markdown",
      "source": [
        "XG Boost regressor Model"
      ],
      "metadata": {
        "id": "v0KJhVihd54j"
      },
      "id": "v0KJhVihd54j"
    },
    {
      "cell_type": "code",
      "source": [
        "from xgboost import XGBRegressor"
      ],
      "metadata": {
        "id": "G4TguR_aeOjT"
      },
      "id": "G4TguR_aeOjT",
      "execution_count": 80,
      "outputs": []
    },
    {
      "cell_type": "code",
      "source": [
        "xx = XGBRegressor().fit(x_train_scaled,y_train)\n",
        "xgb_reg_pred = xx.predict(x_test_scaled)\n",
        "xgb_score = xx.score(x_test_scaled,y_test)\n",
        "xgb_score"
      ],
      "metadata": {
        "colab": {
          "base_uri": "https://localhost:8080/"
        },
        "id": "bGYVnXG9d_eg",
        "outputId": "741c4da8-9f25-46cf-c00c-3e72be987edd"
      },
      "id": "bGYVnXG9d_eg",
      "execution_count": 81,
      "outputs": [
        {
          "output_type": "stream",
          "name": "stdout",
          "text": [
            "[02:54:15] WARNING: /workspace/src/objective/regression_obj.cu:152: reg:linear is now deprecated in favor of reg:squarederror.\n"
          ]
        },
        {
          "output_type": "execute_result",
          "data": {
            "text/plain": [
              "0.9791979828493036"
            ]
          },
          "metadata": {},
          "execution_count": 81
        }
      ]
    },
    {
      "cell_type": "markdown",
      "source": [
        "#Feature Selection"
      ],
      "metadata": {
        "id": "n36i0SYg40An"
      },
      "id": "n36i0SYg40An"
    },
    {
      "cell_type": "code",
      "source": [
        "from sklearn.ensemble import ExtraTreesRegressor\n",
        "model = ExtraTreesRegressor()\n",
        "model.fit(x_train_scaled,y_train)\n",
        "feat_importances = pd.Series(model.feature_importances_, index=x_train.columns)\n",
        "feat_importances.nlargest(10).sort_values().plot(kind='barh', figsize=(10,5))"
      ],
      "metadata": {
        "colab": {
          "base_uri": "https://localhost:8080/",
          "height": 337
        },
        "id": "9XRW8YNr452-",
        "outputId": "527251b8-d937-4d2f-cd81-600f1325f9a8"
      },
      "id": "9XRW8YNr452-",
      "execution_count": 87,
      "outputs": [
        {
          "output_type": "execute_result",
          "data": {
            "text/plain": [
              "<matplotlib.axes._subplots.AxesSubplot at 0x7f44bd958d10>"
            ]
          },
          "metadata": {},
          "execution_count": 87
        },
        {
          "output_type": "display_data",
          "data": {
            "text/plain": [
              "<Figure size 720x360 with 1 Axes>"
            ],
            "image/png": "[encoded data removed]"
          },
          "metadata": {
            "needs_background": "light"
          }
        }
      ]
    },
    {
      "cell_type": "markdown",
      "source": [
        "From the above observation we can conclude that BUILDTYPE, INT_SQFT, N_ROOMS and AREA decides the Sales Price.\n",
        "\n"
      ],
      "metadata": {
        "id": "h3FqjO7U5guq"
      },
      "id": "h3FqjO7U5guq"
    },
    {
      "cell_type": "markdown",
      "source": [
        "#Conclusion"
      ],
      "metadata": {
        "id": "iftcwW-wewJs"
      },
      "id": "iftcwW-wewJs"
    },
    {
      "cell_type": "markdown",
      "source": [
        "The Scores obtained by different regressor models are\n",
        "\n",
        "\n",
        "*   Linear regression model is around 95.67%\n",
        "*   Random Forest model is around 97.34%\n",
        "* XGB regressor model is around 97.91%\n",
        "\n",
        "So from the above inferences we can say that XGB Regressor is the suitable model for this dataset.\n",
        "\n",
        "\n",
        "\n"
      ],
      "metadata": {
        "id": "ThI4MxB-gqAg"
      },
      "id": "ThI4MxB-gqAg"
    }
  ],
  "metadata": {
    "kernelspec": {
      "display_name": "Python 3 (ipykernel)",
      "language": "python",
      "name": "python3"
    },
    "language_info": {
      "codemirror_mode": {
        "name": "ipython",
        "version": 3
      },
      "file_extension": ".py",
      "mimetype": "text/x-python",
      "name": "python",
      "nbconvert_exporter": "python",
      "pygments_lexer": "ipython3",
      "version": "3.9.7"
    },
    "colab": {
      "name": "Chennai House Price Prediction.ipynb",
      "provenance": [],
      "collapsed_sections": [
        "xdl8DMf8hV24",
        "kfCWU3vvdzMb",
        "MtPPqKDB8UGq",
        "SQBk-M4BKMpk",
        "yaieyhnYGRYd",
        "oNWetGEJMC38",
        "FMqW9VkkPgg0",
        "0p46lUHGTiyY",
        "yNgm_UlUYpe1"
      ],
      "include_colab_link": true
    }
  },
  "nbformat": 4,
  "nbformat_minor": 5
}